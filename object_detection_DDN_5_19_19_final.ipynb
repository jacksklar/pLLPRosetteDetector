{
  "nbformat": 4,
  "nbformat_minor": 0,
  "metadata": {
    "colab": {
      "name": "object_detection_DDN-5-19-19_final",
      "version": "0.3.2",
      "provenance": [],
      "include_colab_link": true
    },
    "kernelspec": {
      "name": "python3",
      "display_name": "Python 3"
    },
    "accelerator": "GPU"
  },
  "cells": [
    {
      "cell_type": "markdown",
      "metadata": {
        "id": "view-in-github",
        "colab_type": "text"
      },
      "source": [
        "<a href=\"https://colab.research.google.com/github/jacksklar/pLLPRosetteDetector/blob/master/object_detection_DDN_5_19_19_final.ipynb\" target=\"_parent\"><img src=\"https://colab.research.google.com/assets/colab-badge.svg\" alt=\"Open In Colab\"/></a>"
      ]
    },
    {
      "cell_type": "markdown",
      "metadata": {
        "colab_type": "text",
        "id": "V8-yl-s-WKMG"
      },
      "source": [
        "# Neuromast Detector\n",
        "\n",
        "This model uses tensorflow and the MobileNet v1 CNN to detect epthelial protoneuromasts in two color 2D images of the zebrafish lateral line primordium "
      ]
    },
    {
      "cell_type": "markdown",
      "metadata": {
        "id": "8Var-VjtvlZO",
        "colab_type": "text"
      },
      "source": [
        "#Install packages and and imports"
      ]
    },
    {
      "cell_type": "code",
      "metadata": {
        "id": "EpWZWSlSxXla",
        "colab_type": "code",
        "colab": {}
      },
      "source": [
        "#install tensorflow\n",
        "#!pip install tensorflow-gpu\n",
        "%%capture \n",
        "\n",
        "#clone the object detection models from github\n",
        "!git clone https://github.com/tensorflow/models.git"
      ],
      "execution_count": 0,
      "outputs": []
    },
    {
      "cell_type": "code",
      "metadata": {
        "id": "312jxvSsx6tQ",
        "colab_type": "code",
        "colab": {}
      },
      "source": [
        "#install packages\n",
        "%%capture \n",
        "\n",
        "!sudo apt-get install protobuf-compiler python-pil python-lxml python-tk\n",
        "!pip install --user Cython\n",
        "!pip install --user contextlib2\n",
        "!pip install --user jupyter\n",
        "!pip install 'prompt-toolkit==1.0.15'\n",
        "\n",
        "#need to restart runtime to use this downgraded version of prompt-tookit."
      ],
      "execution_count": 0,
      "outputs": []
    },
    {
      "cell_type": "code",
      "metadata": {
        "id": "5izKRMWryMvn",
        "colab_type": "code",
        "colab": {}
      },
      "source": [
        "%%capture\n",
        "\n",
        "import os\n",
        "os.chdir('/content/models/research/')\n",
        "#compile protobuf\n",
        "!protoc object_detection/protos/*.proto --python_out=.\n",
        "\n",
        "#run the setup script to set up the object detection environment\n",
        "os.getcwd()\n",
        "!python3.6 setup.py build"
      ],
      "execution_count": 0,
      "outputs": []
    },
    {
      "cell_type": "code",
      "metadata": {
        "colab_type": "code",
        "id": "hV4P5gyTWKMI",
        "colab": {}
      },
      "source": [
        "import numpy as np\n",
        "import six.moves.urllib as urllib\n",
        "import sys\n",
        "import tarfile\n",
        "import tensorflow as tf\n",
        "import zipfile\n",
        "import re\n",
        "import ntpath\n",
        "from google.colab import drive\n",
        "\n",
        "from distutils.version import StrictVersion\n",
        "from collections import defaultdict\n",
        "from io import StringIO\n",
        "from matplotlib import pyplot as plt\n",
        "from PIL import Image\n",
        "\n",
        "from object_detection.utils import label_map_util\n",
        "from object_detection.utils import visualization_utils as vis_util\n",
        "\n",
        "\n",
        "drive.mount('/content/gdrive')\n",
        "\n",
        "# This is needed since the notebook is stored in the object_detection folder.\n",
        "sys.path.append(\"..\")\n",
        "from object_detection.utils import ops as utils_ops\n",
        "\n",
        "if StrictVersion(tf.__version__) < StrictVersion('1.12.0'):\n",
        "  raise ImportError('Please upgrade your TensorFlow installation to v1.12.*.')\n",
        "\n",
        "  \n",
        "#add libraries to python path\n",
        "os.environ['PYTHONPATH'] += ':/content/models/research/:/content/models/research/slim/'\n",
        "!export PYTHONPATH=$PYTHONPATH:`pwd`:`pwd`/slim\n",
        "\n",
        "#display matplotlib inline\n",
        "%matplotlib inline"
      ],
      "execution_count": 0,
      "outputs": []
    },
    {
      "cell_type": "markdown",
      "metadata": {
        "id": "2_6kOQT5FTLJ",
        "colab_type": "text"
      },
      "source": [
        "#clone the github repo\n",
        "Importing the labelled data from github for training, and the data to use as a test case after training\n"
      ]
    },
    {
      "cell_type": "code",
      "metadata": {
        "id": "eM9ZlQazYSDe",
        "colab_type": "code",
        "colab": {
          "base_uri": "https://localhost:8080/",
          "height": 151
        },
        "outputId": "fa841636-4417-4416-fc1a-10732dcf7e47"
      },
      "source": [
        "\n",
        "#clone the repo including the data files and the py files into the models folder\n",
        "\n",
        "os.chdir(\"/content/models/research/\")\n",
        "\n",
        "#(remove the current cloned directory if there is one)\n",
        "!rm -r pLLPRosetteDetector \n",
        "\n",
        "!git clone https://github.com/jacksklar/pLLPRosetteDetector\n",
        "  \n",
        "#move the data directory from the cloned repo into the models directory\n",
        "!mv /content/models/research/pLLPRosetteDetector/data /content/models/research/data/\n",
        "\n",
        "#copy generate_tf_record py to the models folder\n",
        "!cp /content/models/research/pLLPRosetteDetector/generate_tfrecord.py /content/models/research/generate_tfrecord.py"
      ],
      "execution_count": 4,
      "outputs": [
        {
          "output_type": "stream",
          "text": [
            "rm: cannot remove 'pLLPRosetteDetector': No such file or directory\n",
            "Cloning into 'pLLPRosetteDetector'...\n",
            "remote: Enumerating objects: 44, done.\u001b[K\n",
            "remote: Counting objects: 100% (44/44), done.\u001b[K\n",
            "remote: Compressing objects: 100% (44/44), done.\u001b[K\n",
            "remote: Total 600 (delta 21), reused 0 (delta 0), pack-reused 556\u001b[K\n",
            "Receiving objects: 100% (600/600), 39.17 MiB | 19.05 MiB/s, done.\n",
            "Resolving deltas: 100% (54/54), done.\n"
          ],
          "name": "stdout"
        }
      ]
    },
    {
      "cell_type": "code",
      "metadata": {
        "id": "JEB8JidhP6ll",
        "colab_type": "code",
        "outputId": "91f5d06b-8cf5-4726-b4bf-3c0874c91920",
        "colab": {
          "base_uri": "https://localhost:8080/",
          "height": 50
        }
      },
      "source": [
        "#make the tf record using the modified generate_tf_record.py script\n",
        "\n",
        "!python generate_tfrecord.py --csv_input=/content/models/research/data/train_labels.csv  --output_path=/content/models/research/train.record\n",
        "!python generate_tfrecord.py --csv_input=/content/models/research/data/test_labels.csv  --output_path=/content/models/research/test.record"
      ],
      "execution_count": 5,
      "outputs": [
        {
          "output_type": "stream",
          "text": [
            "Successfully created the TFRecords: /content/models/research/train.record\n",
            "Successfully created the TFRecords: /content/models/research/test.record\n"
          ],
          "name": "stdout"
        }
      ]
    },
    {
      "cell_type": "markdown",
      "metadata": {
        "id": "1dA0BgAc7F3J",
        "colab_type": "text"
      },
      "source": [
        "#Setting up to train the pre-existing model\n"
      ]
    },
    {
      "cell_type": "code",
      "metadata": {
        "id": "8Rl40Zyk7Jtv",
        "colab_type": "code",
        "colab": {}
      },
      "source": [
        "%%capture\n",
        "\n",
        "#make a folder to put the record files in under the research folder and move the record files there\n",
        "os.chdir(\"/content/models/research/\")\n",
        "!mkdir rosette_detect\n",
        "!mv train.record test.record rosette_detect\n",
        "\n",
        "#Grab the ssd_movilenet_v1 model\n",
        "!wget \"http://download.tensorflow.org/models/object_detection/ssd_mobilenet_v1_coco_2018_01_28.tar.gz\"\n",
        "\n",
        "#unzip the files from the model\n",
        "!tar -xvf ssd_mobilenet_v1_coco_2018_01_28.tar.gz\n",
        "\n",
        "#copy all the model files into the rosette_detect folder\n",
        "!cp /content/models/research/ssd_mobilenet_v1_coco_2018_01_28/model.ckpt.* rosette_detect\n",
        "\n",
        "#get the appropriate config file for the model we're using, in this case the edited version from the cloned github repo, and copy it to this directory\n",
        "!cp /content/models/research/pLLPRosetteDetector/ssd_mobilenet_v1_coco.config /content/models/research/rosette_detect\n",
        "\n",
        "os.chdir(\"/content/models/research/rosette_detect\")"
      ],
      "execution_count": 0,
      "outputs": []
    },
    {
      "cell_type": "code",
      "metadata": {
        "id": "zv4349Snx2Hq",
        "colab_type": "code",
        "outputId": "26e39340-3cbc-4626-b230-0eb639cd7f00",
        "colab": {
          "base_uri": "https://localhost:8080/",
          "height": 34
        }
      },
      "source": [
        "#make the label map file\n",
        "\n",
        "%%writefile labelmap.pbtxt \n",
        "\n",
        "item {\n",
        "  id: 1\n",
        "  name: 'nm'\n",
        "}"
      ],
      "execution_count": 7,
      "outputs": [
        {
          "output_type": "stream",
          "text": [
            "Writing labelmap.pbtxt\n"
          ],
          "name": "stdout"
        }
      ]
    },
    {
      "cell_type": "code",
      "metadata": {
        "id": "fm8FVzuIyu-G",
        "colab_type": "code",
        "outputId": "492aa8ce-9d8c-49c2-e334-83166be3bc54",
        "colab": {
          "base_uri": "https://localhost:8080/",
          "height": 714
        }
      },
      "source": [
        "!ls\n"
      ],
      "execution_count": 0,
      "outputs": [
        {
          "output_type": "stream",
          "text": [
            "a3c_blogpost\t\t\t  marco\n",
            "adversarial_crypto\t\t  maskgan\n",
            "adversarial_logit_pairing\t  minigo\n",
            "adversarial_text\t\t  morph_net\n",
            "adv_imagenet_models\t\t  namignizer\n",
            "astronet\t\t\t  neural_gpu\n",
            "attention_ocr\t\t\t  neural_programmer\n",
            "audioset\t\t\t  next_frame_prediction\n",
            "autoaugment\t\t\t  nst_blogpost\n",
            "autoencoder\t\t\t  object_detection\n",
            "brain_coder\t\t\t  object_detection.egg-info\n",
            "build\t\t\t\t  pcl_rl\n",
            "cognitive_mapping_and_planning\t  pLLPRosetteDetector\n",
            "cognitive_planning\t\t  ptn\n",
            "compression\t\t\t  qa_kg\n",
            "cvt_text\t\t\t  README.md\n",
            "data\t\t\t\t  real_nvp\n",
            "deep_contextual_bandits\t\t  rebar\n",
            "deeplab\t\t\t\t  resnet\n",
            "deep_speech\t\t\t  rosette_detect\n",
            "delf\t\t\t\t  sentiment_analysis\n",
            "differential_privacy\t\t  seq2species\n",
            "domain_adaptation\t\t  setup.py\n",
            "efficient-hrl\t\t\t  skip_thoughts\n",
            "feelvos\t\t\t\t  slim\n",
            "fivo\t\t\t\t  ssd_mobilenet_v1_coco_2018_01_28\n",
            "gan\t\t\t\t  ssd_mobilenet_v1_coco_2018_01_28.tar.gz\n",
            "generate_tfrecord.py\t\t  ssd_mobilenet_v1_coco_2018_01_28.tar.gz.1\n",
            "global_objectives\t\t  ssd_mobilenet_v1_coco_2018_01_28.tar.gz.2\n",
            "im2txt\t\t\t\t  steve\n",
            "inception\t\t\t  street\n",
            "keypointnet\t\t\t  struct2depth\n",
            "labelmap.pbtxt\t\t\t  swivel\n",
            "learned_optimizer\t\t  syntaxnet\n",
            "learning_to_remember_rare_events  tcn\n",
            "learning_unsupervised_learning\t  tensorrt\n",
            "lexnet_nc\t\t\t  textsum\n",
            "lfads\t\t\t\t  transformer\n",
            "lm_1b\t\t\t\t  vid2depth\n",
            "lm_commonsense\t\t\t  video_prediction\n",
            "lstm_object_detection\n"
          ],
          "name": "stdout"
        }
      ]
    },
    {
      "cell_type": "code",
      "metadata": {
        "id": "4MO6lCUF4_xZ",
        "colab_type": "code",
        "colab": {}
      },
      "source": [
        "# set up the model params\n",
        "\n",
        "\n",
        "#path to save the model outputs in\n",
        "model_dir = '/content/models/research/rosette_detect/training/'\n",
        "\n",
        "# remove content in output model directory if there is preexisting model runs and make a new directory.\n",
        "#!rm -rf {model_dir}\n",
        "os.makedirs(model_dir, exist_ok=True)\n",
        "\n",
        "  "
      ],
      "execution_count": 0,
      "outputs": []
    },
    {
      "cell_type": "markdown",
      "metadata": {
        "id": "y9JBSuqNdUpz",
        "colab_type": "text"
      },
      "source": [
        "Can skip the next steps if we have a pre-frozen inference graph"
      ]
    },
    {
      "cell_type": "code",
      "metadata": {
        "id": "fMG8KG-KG9nL",
        "colab_type": "code",
        "colab": {}
      },
      "source": [
        "#train the model. We're using 100,000 steps here for trainin\n",
        "\n",
        "!python /content/models/research/object_detection/model_main.py \\\n",
        "    --pipeline_config_path='/content/models/research/rosette_detect/ssd_mobilenet_v1_coco.config' \\\n",
        "    --model_dir='/content/models/research/rosette_detect/training/' \\\n",
        "    --alsologtostderr \\\n",
        "    --num_train_steps=100000 \\\n",
        "    --num_eval_steps=5000"
      ],
      "execution_count": 0,
      "outputs": []
    },
    {
      "cell_type": "code",
      "metadata": {
        "id": "_VzlPNLuC7Vr",
        "colab_type": "code",
        "colab": {}
      },
      "source": [
        "#check the training files\n",
        "\n",
        "os.chdir(\"/content/models/research/rosette_detect/training\")\n",
        "!ls"
      ],
      "execution_count": 0,
      "outputs": []
    },
    {
      "cell_type": "code",
      "metadata": {
        "id": "0DQceAg_OyWQ",
        "colab_type": "code",
        "colab": {}
      },
      "source": [
        "#export the trained inference graph\n",
        "\n",
        "\n",
        "os.chdir(\"/content/models/research/rosette_detect/training\")\n",
        "\n",
        "output_directory = '/content/models/research/rosette_detect/'\n",
        "\n",
        "lst = os.listdir(model_dir)\n",
        "lst = [l for l in lst if 'model.ckpt-' in l and '.meta' in l]\n",
        "steps=np.array([int(re.findall('\\d+', l)[0]) for l in lst])\n",
        "last_model = lst[steps.argmax()].replace('.meta', '')\n",
        "\n",
        "last_model_path = os.path.join(model_dir, last_model)\n",
        "print(last_model_path)\n",
        "!python /content/models/research/object_detection/export_inference_graph.py \\\n",
        "    --input_type=image_tensor \\\n",
        "    --pipeline_config_path='/content/models/research/rosette_detect/ssd_mobilenet_v1_coco.config' \\\n",
        "    --output_directory={output_directory} \\\n",
        "    --trained_checkpoint_prefix={last_model_path}\n",
        "\n"
      ],
      "execution_count": 0,
      "outputs": []
    },
    {
      "cell_type": "code",
      "metadata": {
        "id": "NN0aS5DpODXr",
        "colab_type": "code",
        "outputId": "0ec722e6-4bae-46e1-ba91-5a0e385aebf0",
        "colab": {
          "base_uri": "https://localhost:8080/",
          "height": 67
        }
      },
      "source": [
        "#fozen inference graph should now be in here\n",
        "\n",
        "!ls /content/models/research/rosette_detect/"
      ],
      "execution_count": 12,
      "outputs": [
        {
          "output_type": "stream",
          "text": [
            "frozen_inference_graph.pb\tmodel.ckpt.index\t      test.record\n",
            "labelmap.pbtxt\t\t\tmodel.ckpt.meta\t\t      training\n",
            "model.ckpt.data-00000-of-00001\tssd_mobilenet_v1_coco.config  train.record\n"
          ],
          "name": "stdout"
        }
      ]
    },
    {
      "cell_type": "code",
      "metadata": {
        "id": "34_xEnUmRs92",
        "colab_type": "code",
        "colab": {}
      },
      "source": [
        "#download the trained file if you want to\n",
        "\n",
        "\n",
        "from google.colab import files\n",
        "files.download(pb_fname)\n",
        "files.download(label_map_pbtxt_fname)\n"
      ],
      "execution_count": 0,
      "outputs": []
    },
    {
      "cell_type": "code",
      "metadata": {
        "id": "ekZr8As8dbp1",
        "colab_type": "code",
        "colab": {
          "base_uri": "https://localhost:8080/",
          "height": 202
        },
        "outputId": "dcb766e3-3187-4b30-95d5-3cf06610e8f9"
      },
      "source": [
        "#or, download the inference graph from githib, pretrained on 100,000 steps\n",
        "\n",
        "os.chdir('/content/models/research/rosette_detect/')\n",
        "\n",
        "!wget 'https://github.com/jacksklar/pLLPRosetteDetector/blob/master/frozen_inference_graph.pb'"
      ],
      "execution_count": 9,
      "outputs": [
        {
          "output_type": "stream",
          "text": [
            "--2019-05-19 18:25:03--  https://github.com/jacksklar/pLLPRosetteDetector/blob/master/frozen_inference_graph.pb\n",
            "Resolving github.com (github.com)... 192.30.253.112\n",
            "Connecting to github.com (github.com)|192.30.253.112|:443... connected.\n",
            "HTTP request sent, awaiting response... 200 OK\n",
            "Length: unspecified [text/html]\n",
            "Saving to: ‘frozen_inference_graph.pb’\n",
            "\n",
            "frozen_inference_gr     [ <=>                ]  60.78K  --.-KB/s    in 0.1s    \n",
            "\n",
            "2019-05-19 18:25:04 (486 KB/s) - ‘frozen_inference_graph.pb’ saved [62241]\n",
            "\n"
          ],
          "name": "stdout"
        }
      ]
    },
    {
      "cell_type": "code",
      "metadata": {
        "id": "yr7wK1j1r5g2",
        "colab_type": "code",
        "colab": {}
      },
      "source": [
        "os.chdir(\"/content/gdrive/My Drive/final_test\")\n",
        "!ls"
      ],
      "execution_count": 0,
      "outputs": []
    },
    {
      "cell_type": "code",
      "metadata": {
        "id": "i9YmRjO4R6LL",
        "colab_type": "code",
        "outputId": "4379e3e1-8df1-426e-d90c-d0274b55c9ce",
        "colab": {
          "base_uri": "https://localhost:8080/",
          "height": 54
        }
      },
      "source": [
        "\n",
        "#inference test on final image folder from google drive\n",
        "\n",
        "\n",
        "import os\n",
        "import glob\n",
        "\n",
        "output_directory = '/content/models/research/rosette_detect/'\n",
        "pb_fname = os.path.join(os.path.abspath(output_directory), \"frozen_inference_graph.pb\")\n",
        "label_map_pbtxt_fname = '/content/models/research/rosette_detect/labelmap.pbtxt'\n",
        "\n",
        "# Path to frozen detection graph. This is the actual model that is used for the object detection.\n",
        "PATH_TO_CKPT = '/content/models/research/rosette_detect/frozen_inference_graph.pb'\n",
        "\n",
        "# List of the strings that is used to add correct label for each box.\n",
        "PATH_TO_LABELS = label_map_pbtxt_fname\n",
        "\n",
        "# If you want to test the code with your images, just add images files to the PATH_TO_TEST_IMAGES_DIR.\n",
        "#PATH_TO_TEST_IMAGES_DIR =  \"/content/models/research/pLLPRosetteDetector/test\"\n",
        "PATH_TO_TEST_IMAGES_DIR =  \"/content/gdrive/My Drive/final_test\"\n",
        "\n",
        "\n",
        "#assert os.path.isfile(pb_fname)\n",
        "#assert os.path.isfile(PATH_TO_LABELS)\n",
        "TEST_IMAGE_PATHS = glob.glob(os.path.join(PATH_TO_TEST_IMAGES_DIR, \"*.*\"))\n",
        "assert len(TEST_IMAGE_PATHS) > 0, 'No image found in `{}`.'.format(PATH_TO_TEST_IMAGES_DIR)\n",
        "print(TEST_IMAGE_PATHS)"
      ],
      "execution_count": 16,
      "outputs": [
        {
          "output_type": "stream",
          "text": [
            "['/content/gdrive/My Drive/final_test/image_0770.tif', '/content/gdrive/My Drive/final_test/image_0773.tif', '/content/gdrive/My Drive/final_test/image_0771.tif', '/content/gdrive/My Drive/final_test/image_0772.tif', '/content/gdrive/My Drive/final_test/image_0776.tif', '/content/gdrive/My Drive/final_test/image_0775.tif', '/content/gdrive/My Drive/final_test/image_0778.tif', '/content/gdrive/My Drive/final_test/image_0777.tif', '/content/gdrive/My Drive/final_test/image_0779.tif', '/content/gdrive/My Drive/final_test/image_0782.tif', '/content/gdrive/My Drive/final_test/image_0780.tif', '/content/gdrive/My Drive/final_test/image_0783.tif', '/content/gdrive/My Drive/final_test/image_0784.tif', '/content/gdrive/My Drive/final_test/image_0781.tif', '/content/gdrive/My Drive/final_test/image_0785.tif', '/content/gdrive/My Drive/final_test/image_0786.tif', '/content/gdrive/My Drive/final_test/image_0788.tif', '/content/gdrive/My Drive/final_test/image_0787.tif', '/content/gdrive/My Drive/final_test/image_0789.tif', '/content/gdrive/My Drive/final_test/image_0794.tif', '/content/gdrive/My Drive/final_test/image_0795.tif', '/content/gdrive/My Drive/final_test/image_0793.tif', '/content/gdrive/My Drive/final_test/image_0792.tif', '/content/gdrive/My Drive/final_test/image_0791.tif', '/content/gdrive/My Drive/final_test/image_0790.tif', '/content/gdrive/My Drive/final_test/image_0798.tif', '/content/gdrive/My Drive/final_test/image_0796.tif', '/content/gdrive/My Drive/final_test/image_0797.tif', '/content/gdrive/My Drive/final_test/image_0799.tif', '/content/gdrive/My Drive/final_test/image_0801.tif', '/content/gdrive/My Drive/final_test/image_0802.tif', '/content/gdrive/My Drive/final_test/image_0800.tif', '/content/gdrive/My Drive/final_test/image_0804.tif', '/content/gdrive/My Drive/final_test/image_0803.tif', '/content/gdrive/My Drive/final_test/image_0805.tif', '/content/gdrive/My Drive/final_test/image_0808.tif', '/content/gdrive/My Drive/final_test/image_0806.tif', '/content/gdrive/My Drive/final_test/image_0807.tif', '/content/gdrive/My Drive/final_test/image_0809.tif', '/content/gdrive/My Drive/final_test/image_0812.tif', '/content/gdrive/My Drive/final_test/image_0810.tif', '/content/gdrive/My Drive/final_test/image_0811.tif', '/content/gdrive/My Drive/final_test/image_0814.tif', '/content/gdrive/My Drive/final_test/image_0817.tif', '/content/gdrive/My Drive/final_test/image_0818.tif', '/content/gdrive/My Drive/final_test/image_0815.tif', '/content/gdrive/My Drive/final_test/image_0813.tif', '/content/gdrive/My Drive/final_test/image_0816.tif', '/content/gdrive/My Drive/final_test/image_0819.tif', '/content/gdrive/My Drive/final_test/image_0822.tif', '/content/gdrive/My Drive/final_test/image_0820.tif', '/content/gdrive/My Drive/final_test/image_0821.tif', '/content/gdrive/My Drive/final_test/image_0823.tif', '/content/gdrive/My Drive/final_test/image_0828.tif', '/content/gdrive/My Drive/final_test/image_0827.tif', '/content/gdrive/My Drive/final_test/image_0824.tif', '/content/gdrive/My Drive/final_test/image_0826.tif', '/content/gdrive/My Drive/final_test/image_0825.tif', '/content/gdrive/My Drive/final_test/image_0829.tif', '/content/gdrive/My Drive/final_test/image_0831.tif', '/content/gdrive/My Drive/final_test/image_0833.tif', '/content/gdrive/My Drive/final_test/image_0832.tif', '/content/gdrive/My Drive/final_test/image_0834.tif', '/content/gdrive/My Drive/final_test/image_0830.tif', '/content/gdrive/My Drive/final_test/image_0837.tif', '/content/gdrive/My Drive/final_test/image_0838.tif', '/content/gdrive/My Drive/final_test/image_0836.tif', '/content/gdrive/My Drive/final_test/image_0835.tif', '/content/gdrive/My Drive/final_test/image_0839.tif', '/content/gdrive/My Drive/final_test/image_0840.tif', '/content/gdrive/My Drive/final_test/image_0841.tif', '/content/gdrive/My Drive/final_test/image_0843.tif', '/content/gdrive/My Drive/final_test/image_0842.tif', '/content/gdrive/My Drive/final_test/image_0845.tif', '/content/gdrive/My Drive/final_test/image_0846.tif', '/content/gdrive/My Drive/final_test/image_0847.tif', '/content/gdrive/My Drive/final_test/image_0844.tif', '/content/gdrive/My Drive/final_test/image_0848.tif', '/content/gdrive/My Drive/final_test/image_0849.tif', '/content/gdrive/My Drive/final_test/image_0851.tif', '/content/gdrive/My Drive/final_test/image_0856.tif', '/content/gdrive/My Drive/final_test/image_0855.tif', '/content/gdrive/My Drive/final_test/image_0857.tif', '/content/gdrive/My Drive/final_test/image_0853.tif', '/content/gdrive/My Drive/final_test/image_0858.tif', '/content/gdrive/My Drive/final_test/image_0852.tif', '/content/gdrive/My Drive/final_test/image_0854.tif', '/content/gdrive/My Drive/final_test/image_0850.tif', '/content/gdrive/My Drive/final_test/image_0859.tif', '/content/gdrive/My Drive/final_test/image_0862.tif', '/content/gdrive/My Drive/final_test/image_0860.tif', '/content/gdrive/My Drive/final_test/image_0863.tif', '/content/gdrive/My Drive/final_test/image_0864.tif', '/content/gdrive/My Drive/final_test/image_0861.tif', '/content/gdrive/My Drive/final_test/image_0867.tif', '/content/gdrive/My Drive/final_test/image_0865.tif', '/content/gdrive/My Drive/final_test/image_0866.tif', '/content/gdrive/My Drive/final_test/image_0868.tif', '/content/gdrive/My Drive/final_test/image_0869.tif', '/content/gdrive/My Drive/final_test/image_0870.tif', '/content/gdrive/My Drive/final_test/image_0871.tif', '/content/gdrive/My Drive/final_test/image_0873.tif', '/content/gdrive/My Drive/final_test/image_0874.tif', '/content/gdrive/My Drive/final_test/image_0872.tif', '/content/gdrive/My Drive/final_test/image_0875.tif', '/content/gdrive/My Drive/final_test/image_0878.tif', '/content/gdrive/My Drive/final_test/image_0876.tif', '/content/gdrive/My Drive/final_test/image_0877.tif', '/content/gdrive/My Drive/final_test/image_0879.tif', '/content/gdrive/My Drive/final_test/image_0884.tif', '/content/gdrive/My Drive/final_test/image_0883.tif', '/content/gdrive/My Drive/final_test/image_0882.tif', '/content/gdrive/My Drive/final_test/image_0880.tif', '/content/gdrive/My Drive/final_test/image_0881.tif', '/content/gdrive/My Drive/final_test/image_0886.tif', '/content/gdrive/My Drive/final_test/image_0885.tif', '/content/gdrive/My Drive/final_test/image_0888.tif', '/content/gdrive/My Drive/final_test/image_0887.tif', '/content/gdrive/My Drive/final_test/image_0889.tif', '/content/gdrive/My Drive/final_test/image_0891.tif', '/content/gdrive/My Drive/final_test/image_0890.tif', '/content/gdrive/My Drive/final_test/image_0893.tif', '/content/gdrive/My Drive/final_test/image_0892.tif', '/content/gdrive/My Drive/final_test/image_0895.tif', '/content/gdrive/My Drive/final_test/image_0896.tif', '/content/gdrive/My Drive/final_test/image_0897.tif', '/content/gdrive/My Drive/final_test/image_0894.tif', '/content/gdrive/My Drive/final_test/image_0898.tif', '/content/gdrive/My Drive/final_test/image_0899.tif', '/content/gdrive/My Drive/final_test/image_0901.tif', '/content/gdrive/My Drive/final_test/image_0903.tif', '/content/gdrive/My Drive/final_test/image_0902.tif', '/content/gdrive/My Drive/final_test/image_0900.tif', '/content/gdrive/My Drive/final_test/image_0907.tif', '/content/gdrive/My Drive/final_test/image_0905.tif', '/content/gdrive/My Drive/final_test/image_0904.tif', '/content/gdrive/My Drive/final_test/image_0906.tif', '/content/gdrive/My Drive/final_test/image_0908.tif', '/content/gdrive/My Drive/final_test/image_0909.tif', '/content/gdrive/My Drive/final_test/image_0912.tif', '/content/gdrive/My Drive/final_test/image_0914.tif', '/content/gdrive/My Drive/final_test/image_0911.tif', '/content/gdrive/My Drive/final_test/image_0910.tif', '/content/gdrive/My Drive/final_test/image_0913.tif', '/content/gdrive/My Drive/final_test/image_0915.tif', '/content/gdrive/My Drive/final_test/image_0918.tif', '/content/gdrive/My Drive/final_test/image_0916.tif', '/content/gdrive/My Drive/final_test/image_0917.tif', '/content/gdrive/My Drive/final_test/image_0919.tif', '/content/gdrive/My Drive/final_test/image_0922.tif', '/content/gdrive/My Drive/final_test/image_0920.tif', '/content/gdrive/My Drive/final_test/image_0924.tif', '/content/gdrive/My Drive/final_test/image_0923.tif', '/content/gdrive/My Drive/final_test/image_0921.tif', '/content/gdrive/My Drive/final_test/image_0928.tif', '/content/gdrive/My Drive/final_test/image_0925.tif', '/content/gdrive/My Drive/final_test/image_0927.tif', '/content/gdrive/My Drive/final_test/image_0926.tif', '/content/gdrive/My Drive/final_test/image_0929.tif', '/content/gdrive/My Drive/final_test/image_0933.tif', '/content/gdrive/My Drive/final_test/image_0930.tif', '/content/gdrive/My Drive/final_test/image_0932.tif', '/content/gdrive/My Drive/final_test/image_0934.tif', '/content/gdrive/My Drive/final_test/image_0931.tif', '/content/gdrive/My Drive/final_test/image_0937.tif', '/content/gdrive/My Drive/final_test/image_0938.tif', '/content/gdrive/My Drive/final_test/image_0936.tif', '/content/gdrive/My Drive/final_test/image_0935.tif', '/content/gdrive/My Drive/final_test/image_0939.tif', '/content/gdrive/My Drive/final_test/image_0940.tif', '/content/gdrive/My Drive/final_test/image_0942.tif', '/content/gdrive/My Drive/final_test/image_0944.tif', '/content/gdrive/My Drive/final_test/image_0941.tif', '/content/gdrive/My Drive/final_test/image_0945.tif', '/content/gdrive/My Drive/final_test/image_0943.tif', '/content/gdrive/My Drive/final_test/image_0948.tif', '/content/gdrive/My Drive/final_test/image_0947.tif', '/content/gdrive/My Drive/final_test/image_0946.tif', '/content/gdrive/My Drive/final_test/image_0949.tif', '/content/gdrive/My Drive/final_test/image_0950.tif', '/content/gdrive/My Drive/final_test/image_0951.tif', '/content/gdrive/My Drive/final_test/image_0953.tif', '/content/gdrive/My Drive/final_test/image_0952.tif', '/content/gdrive/My Drive/final_test/image_0954.tif', '/content/gdrive/My Drive/final_test/image_0958.tif', '/content/gdrive/My Drive/final_test/image_0957.tif', '/content/gdrive/My Drive/final_test/image_0955.tif', '/content/gdrive/My Drive/final_test/image_0956.tif', '/content/gdrive/My Drive/final_test/image_0959.tif', '/content/gdrive/My Drive/final_test/image_0960.tif', '/content/gdrive/My Drive/final_test/image_0963.tif', '/content/gdrive/My Drive/final_test/image_0962.tif', '/content/gdrive/My Drive/final_test/image_0961.tif', '/content/gdrive/My Drive/final_test/image_0968.tif', '/content/gdrive/My Drive/final_test/image_0966.tif', '/content/gdrive/My Drive/final_test/image_0964.tif', '/content/gdrive/My Drive/final_test/image_0965.tif', '/content/gdrive/My Drive/final_test/image_0967.tif', '/content/gdrive/My Drive/final_test/image_0969.tif', '/content/gdrive/My Drive/final_test/image_0972.tif', '/content/gdrive/My Drive/final_test/image_0974.tif', '/content/gdrive/My Drive/final_test/image_0975.tif', '/content/gdrive/My Drive/final_test/image_0970.tif', '/content/gdrive/My Drive/final_test/image_0971.tif', '/content/gdrive/My Drive/final_test/image_0973.tif', '/content/gdrive/My Drive/final_test/image_0978.tif', '/content/gdrive/My Drive/final_test/image_0976.tif', '/content/gdrive/My Drive/final_test/image_0977.tif', '/content/gdrive/My Drive/final_test/image_0979.tif', '/content/gdrive/My Drive/final_test/image_0982.tif', '/content/gdrive/My Drive/final_test/image_0983.tif', '/content/gdrive/My Drive/final_test/image_0985.tif', '/content/gdrive/My Drive/final_test/image_0981.tif', '/content/gdrive/My Drive/final_test/image_0980.tif', '/content/gdrive/My Drive/final_test/image_0987.tif', '/content/gdrive/My Drive/final_test/image_0988.tif', '/content/gdrive/My Drive/final_test/image_0986.tif', '/content/gdrive/My Drive/final_test/image_0984.tif', '/content/gdrive/My Drive/final_test/image_0989.tif', '/content/gdrive/My Drive/final_test/image_0995.tif', '/content/gdrive/My Drive/final_test/image_0990.tif', '/content/gdrive/My Drive/final_test/image_0994.tif', '/content/gdrive/My Drive/final_test/image_0992.tif', '/content/gdrive/My Drive/final_test/image_0991.tif', '/content/gdrive/My Drive/final_test/image_0997.tif', '/content/gdrive/My Drive/final_test/image_0996.tif', '/content/gdrive/My Drive/final_test/image_0993.tif', '/content/gdrive/My Drive/final_test/image_0998.tif', '/content/gdrive/My Drive/final_test/image_0999.tif', '/content/gdrive/My Drive/final_test/image_1004.tif', '/content/gdrive/My Drive/final_test/image_1002.tif', '/content/gdrive/My Drive/final_test/image_1000.tif', '/content/gdrive/My Drive/final_test/image_1003.tif', '/content/gdrive/My Drive/final_test/image_1001.tif', '/content/gdrive/My Drive/final_test/image_1005.tif', '/content/gdrive/My Drive/final_test/image_1007.tif', '/content/gdrive/My Drive/final_test/image_1008 (1).tif', '/content/gdrive/My Drive/final_test/image_1006.tif', '/content/gdrive/My Drive/final_test/image_1009.tif', '/content/gdrive/My Drive/final_test/image_1011.tif', '/content/gdrive/My Drive/final_test/image_1013.tif', '/content/gdrive/My Drive/final_test/image_1010.tif', '/content/gdrive/My Drive/final_test/image_1012.tif', '/content/gdrive/My Drive/final_test/image_1017.tif', '/content/gdrive/My Drive/final_test/image_1014.tif', '/content/gdrive/My Drive/final_test/image_1016.tif', '/content/gdrive/My Drive/final_test/image_1015.tif', '/content/gdrive/My Drive/final_test/image_1018.tif', '/content/gdrive/My Drive/final_test/image_1008.tif', '/content/gdrive/My Drive/final_test/image_1021.tif', '/content/gdrive/My Drive/final_test/image_1020.tif', '/content/gdrive/My Drive/final_test/image_1019.tif', '/content/gdrive/My Drive/final_test/image_1022.tif', '/content/gdrive/My Drive/final_test/image_1025.tif', '/content/gdrive/My Drive/final_test/image_1023.tif', '/content/gdrive/My Drive/final_test/image_1024.tif', '/content/gdrive/My Drive/final_test/image_1027.tif', '/content/gdrive/My Drive/final_test/image_1026.tif', '/content/gdrive/My Drive/final_test/image_1028.tif', '/content/gdrive/My Drive/final_test/image_1033.tif', '/content/gdrive/My Drive/final_test/image_1032.tif', '/content/gdrive/My Drive/final_test/image_1030.tif', '/content/gdrive/My Drive/final_test/image_1034.tif', '/content/gdrive/My Drive/final_test/image_1031.tif', '/content/gdrive/My Drive/final_test/image_1029.tif', '/content/gdrive/My Drive/final_test/image_1037.tif', '/content/gdrive/My Drive/final_test/image_1036.tif', '/content/gdrive/My Drive/final_test/image_1035.tif', '/content/gdrive/My Drive/final_test/image_1038.tif', '/content/gdrive/My Drive/final_test/image_1044.tif', '/content/gdrive/My Drive/final_test/image_1040.tif', '/content/gdrive/My Drive/final_test/image_1039.tif', '/content/gdrive/My Drive/final_test/image_1041.tif', '/content/gdrive/My Drive/final_test/image_1042.tif', '/content/gdrive/My Drive/final_test/image_1043.tif', '/content/gdrive/My Drive/final_test/image_1045.tif', '/content/gdrive/My Drive/final_test/image_1046.tif', '/content/gdrive/My Drive/final_test/image_1047.tif', '/content/gdrive/My Drive/final_test/image_1048.tif', '/content/gdrive/My Drive/final_test/image_1051.tif', '/content/gdrive/My Drive/final_test/image_1049.tif', '/content/gdrive/My Drive/final_test/image_1050.tif', '/content/gdrive/My Drive/final_test/image_1052.tif', '/content/gdrive/My Drive/final_test/image_1054.tif', '/content/gdrive/My Drive/final_test/image_1055.tif', '/content/gdrive/My Drive/final_test/image_1056.tif', '/content/gdrive/My Drive/final_test/image_1053.tif', '/content/gdrive/My Drive/final_test/image_1057.tif', '/content/gdrive/My Drive/final_test/image_1058.tif', '/content/gdrive/My Drive/final_test/image_1062.tif', '/content/gdrive/My Drive/final_test/image_1061.tif', '/content/gdrive/My Drive/final_test/image_1063.tif', '/content/gdrive/My Drive/final_test/image_1060.tif', '/content/gdrive/My Drive/final_test/image_1059.tif', '/content/gdrive/My Drive/final_test/image_1065.tif', '/content/gdrive/My Drive/final_test/image_1064.tif', '/content/gdrive/My Drive/final_test/image_1067.tif', '/content/gdrive/My Drive/final_test/image_1066.tif', '/content/gdrive/My Drive/final_test/image_1068.tif', '/content/gdrive/My Drive/final_test/image_1073.tif', '/content/gdrive/My Drive/final_test/image_1069.tif', '/content/gdrive/My Drive/final_test/image_1070.tif', '/content/gdrive/My Drive/final_test/image_1072.tif', '/content/gdrive/My Drive/final_test/image_1071.tif', '/content/gdrive/My Drive/final_test/image_1075.tif', '/content/gdrive/My Drive/final_test/image_1074.tif', '/content/gdrive/My Drive/final_test/image_1076.tif', '/content/gdrive/My Drive/final_test/image_1077.tif', '/content/gdrive/My Drive/final_test/image_1078.tif', '/content/gdrive/My Drive/final_test/image_1081.tif', '/content/gdrive/My Drive/final_test/image_1083.tif', '/content/gdrive/My Drive/final_test/image_1080.tif', '/content/gdrive/My Drive/final_test/image_1082.tif', '/content/gdrive/My Drive/final_test/image_1079.tif', '/content/gdrive/My Drive/final_test/image_1084.tif', '/content/gdrive/My Drive/final_test/image_1085.tif', '/content/gdrive/My Drive/final_test/image_1087.tif', '/content/gdrive/My Drive/final_test/image_1086.tif', '/content/gdrive/My Drive/final_test/image_1088.tif', '/content/gdrive/My Drive/final_test/image_1091.tif', '/content/gdrive/My Drive/final_test/image_1090.tif', '/content/gdrive/My Drive/final_test/image_1092.tif', '/content/gdrive/My Drive/final_test/image_1089.tif', '/content/gdrive/My Drive/final_test/image_1093.tif', '/content/gdrive/My Drive/final_test/image_1097.tif', '/content/gdrive/My Drive/final_test/image_1095.tif', '/content/gdrive/My Drive/final_test/image_1094.tif', '/content/gdrive/My Drive/final_test/image_1096.tif', '/content/gdrive/My Drive/final_test/image_1098.tif', '/content/gdrive/My Drive/final_test/image_1101.tif', '/content/gdrive/My Drive/final_test/image_1103.tif', '/content/gdrive/My Drive/final_test/image_1099.tif', '/content/gdrive/My Drive/final_test/image_1102.tif', '/content/gdrive/My Drive/final_test/image_1100.tif', '/content/gdrive/My Drive/final_test/image_1105.tif', '/content/gdrive/My Drive/final_test/image_1107.tif', '/content/gdrive/My Drive/final_test/image_1104.tif', '/content/gdrive/My Drive/final_test/image_1106.tif', '/content/gdrive/My Drive/final_test/image_1108.tif', '/content/gdrive/My Drive/final_test/image_1109.tif', '/content/gdrive/My Drive/final_test/image_1110.tif', '/content/gdrive/My Drive/final_test/image_1111.tif', '/content/gdrive/My Drive/final_test/image_1112.tif', '/content/gdrive/My Drive/final_test/image_1114.tif', '/content/gdrive/My Drive/final_test/image_1117.tif', '/content/gdrive/My Drive/final_test/image_1113.tif', '/content/gdrive/My Drive/final_test/image_1116.tif', '/content/gdrive/My Drive/final_test/image_1115.tif', '/content/gdrive/My Drive/final_test/image_1118.tif', '/content/gdrive/My Drive/final_test/image_1121.tif', '/content/gdrive/My Drive/final_test/image_1119.tif', '/content/gdrive/My Drive/final_test/image_1122.tif', '/content/gdrive/My Drive/final_test/image_1120.tif', '/content/gdrive/My Drive/final_test/image_1127.tif', '/content/gdrive/My Drive/final_test/image_1124.tif', '/content/gdrive/My Drive/final_test/image_1126.tif', '/content/gdrive/My Drive/final_test/image_1125.tif', '/content/gdrive/My Drive/final_test/image_1123.tif', '/content/gdrive/My Drive/final_test/image_1128.tif', '/content/gdrive/My Drive/final_test/image_1131.tif', '/content/gdrive/My Drive/final_test/image_1130.tif', '/content/gdrive/My Drive/final_test/image_1132.tif', '/content/gdrive/My Drive/final_test/image_1129.tif', '/content/gdrive/My Drive/final_test/image_1134.tif', '/content/gdrive/My Drive/final_test/image_1133.tif', '/content/gdrive/My Drive/final_test/image_1135.tif', '/content/gdrive/My Drive/final_test/image_1136.tif', '/content/gdrive/My Drive/final_test/image_1137.tif', '/content/gdrive/My Drive/final_test/image_1138.tif', '/content/gdrive/My Drive/final_test/image_1142.tif', '/content/gdrive/My Drive/final_test/image_1140.tif', '/content/gdrive/My Drive/final_test/image_1141.tif', '/content/gdrive/My Drive/final_test/image_1139.tif', '/content/gdrive/My Drive/final_test/image_1143.tif', '/content/gdrive/My Drive/final_test/image_1145.tif', '/content/gdrive/My Drive/final_test/image_1146.tif', '/content/gdrive/My Drive/final_test/image_1147.tif', '/content/gdrive/My Drive/final_test/image_1144.tif', '/content/gdrive/My Drive/final_test/image_1148.tif', '/content/gdrive/My Drive/final_test/image_1153.tif', '/content/gdrive/My Drive/final_test/image_1150.tif', '/content/gdrive/My Drive/final_test/image_1149.tif', '/content/gdrive/My Drive/final_test/image_1151.tif', '/content/gdrive/My Drive/final_test/image_1152.tif', '/content/gdrive/My Drive/final_test/image_1155.tif', '/content/gdrive/My Drive/final_test/image_1154.tif', '/content/gdrive/My Drive/final_test/image_1156.tif', '/content/gdrive/My Drive/final_test/image_1157.tif', '/content/gdrive/My Drive/final_test/image_1158.tif', '/content/gdrive/My Drive/final_test/image_1162.tif', '/content/gdrive/My Drive/final_test/image_1161.tif', '/content/gdrive/My Drive/final_test/image_1159.tif', '/content/gdrive/My Drive/final_test/image_1160.tif', '/content/gdrive/My Drive/final_test/image_1165.tif', '/content/gdrive/My Drive/final_test/image_1163.tif', '/content/gdrive/My Drive/final_test/image_1164.tif', '/content/gdrive/My Drive/final_test/image_1167.tif', '/content/gdrive/My Drive/final_test/image_1166.tif', '/content/gdrive/My Drive/final_test/image_1168.tif', '/content/gdrive/My Drive/final_test/image_1173.tif', '/content/gdrive/My Drive/final_test/image_1170.tif', '/content/gdrive/My Drive/final_test/image_1171.tif', '/content/gdrive/My Drive/final_test/image_1169.tif', '/content/gdrive/My Drive/final_test/image_1172.tif', '/content/gdrive/My Drive/final_test/image_1174.tif', '/content/gdrive/My Drive/final_test/image_1176.tif', '/content/gdrive/My Drive/final_test/image_1177.tif', '/content/gdrive/My Drive/final_test/image_1175.tif', '/content/gdrive/My Drive/final_test/image_1178.tif', '/content/gdrive/My Drive/final_test/image_1181.tif', '/content/gdrive/My Drive/final_test/image_1179.tif', '/content/gdrive/My Drive/final_test/image_1184.tif', '/content/gdrive/My Drive/final_test/image_1180.tif', '/content/gdrive/My Drive/final_test/image_1182.tif', '/content/gdrive/My Drive/final_test/image_1183.tif', '/content/gdrive/My Drive/final_test/image_1186.tif', '/content/gdrive/My Drive/final_test/image_1187.tif', '/content/gdrive/My Drive/final_test/image_1185.tif', '/content/gdrive/My Drive/final_test/image_1188.tif', '/content/gdrive/My Drive/final_test/image_1191.tif', '/content/gdrive/My Drive/final_test/image_1192.tif', '/content/gdrive/My Drive/final_test/image_1189.tif', '/content/gdrive/My Drive/final_test/image_1190.tif', '/content/gdrive/My Drive/final_test/image_1193.tif', '/content/gdrive/My Drive/final_test/image_1194.tif', '/content/gdrive/My Drive/final_test/image_1196.tif', '/content/gdrive/My Drive/final_test/image_1195.tif', '/content/gdrive/My Drive/final_test/image_1197.tif', '/content/gdrive/My Drive/final_test/image_1198.tif', '/content/gdrive/My Drive/final_test/image_1200.tif', '/content/gdrive/My Drive/final_test/image_1201.tif', '/content/gdrive/My Drive/final_test/image_1202.tif', '/content/gdrive/My Drive/final_test/image_1199.tif', '/content/gdrive/My Drive/final_test/image_1203.tif', '/content/gdrive/My Drive/final_test/image_1205.tif', '/content/gdrive/My Drive/final_test/image_1206.tif', '/content/gdrive/My Drive/final_test/image_1204.tif', '/content/gdrive/My Drive/final_test/image_1207.tif', '/content/gdrive/My Drive/final_test/image_1208.tif', '/content/gdrive/My Drive/final_test/image_1211.tif', '/content/gdrive/My Drive/final_test/image_1213.tif', '/content/gdrive/My Drive/final_test/image_1209.tif', '/content/gdrive/My Drive/final_test/image_1210.tif', '/content/gdrive/My Drive/final_test/image_1212.tif', '/content/gdrive/My Drive/final_test/image_1217.tif', '/content/gdrive/My Drive/final_test/image_1214.tif', '/content/gdrive/My Drive/final_test/image_1216.tif', '/content/gdrive/My Drive/final_test/image_1215.tif', '/content/gdrive/My Drive/final_test/image_1218.tif', '/content/gdrive/My Drive/final_test/image_1220.tif', '/content/gdrive/My Drive/final_test/image_1221.tif', '/content/gdrive/My Drive/final_test/image_1222.tif', '/content/gdrive/My Drive/final_test/image_1219.tif', '/content/gdrive/My Drive/final_test/image_1223.tif', '/content/gdrive/My Drive/final_test/image_1224.tif', '/content/gdrive/My Drive/final_test/image_1226.tif', '/content/gdrive/My Drive/final_test/image_1225.tif', '/content/gdrive/My Drive/final_test/image_1227.tif', '/content/gdrive/My Drive/final_test/image_1228.tif', '/content/gdrive/My Drive/final_test/image_1231.tif', '/content/gdrive/My Drive/final_test/image_1232.tif', '/content/gdrive/My Drive/final_test/image_1230.tif', '/content/gdrive/My Drive/final_test/image_1229.tif', '/content/gdrive/My Drive/final_test/image_1235.tif', '/content/gdrive/My Drive/final_test/image_1236.tif', '/content/gdrive/My Drive/final_test/image_1234.tif', '/content/gdrive/My Drive/final_test/image_1237.tif', '/content/gdrive/My Drive/final_test/image_1233.tif', '/content/gdrive/My Drive/final_test/image_1238.tif', '/content/gdrive/My Drive/final_test/image_1242.tif', '/content/gdrive/My Drive/final_test/image_1240.tif', '/content/gdrive/My Drive/final_test/image_1243.tif', '/content/gdrive/My Drive/final_test/image_1239.tif', '/content/gdrive/My Drive/final_test/image_1241.tif', '/content/gdrive/My Drive/final_test/image_1245.tif', '/content/gdrive/My Drive/final_test/image_1246.tif', '/content/gdrive/My Drive/final_test/image_1244.tif', '/content/gdrive/My Drive/final_test/image_1247.tif', '/content/gdrive/My Drive/final_test/image_1248.tif', '/content/gdrive/My Drive/final_test/image_1250.tif', '/content/gdrive/My Drive/final_test/image_1251.tif', '/content/gdrive/My Drive/final_test/image_1249.tif', '/content/gdrive/My Drive/final_test/image_1252.tif', '/content/gdrive/My Drive/final_test/image_1257.tif', '/content/gdrive/My Drive/final_test/image_1256.tif', '/content/gdrive/My Drive/final_test/image_1253.tif', '/content/gdrive/My Drive/final_test/image_1254.tif', '/content/gdrive/My Drive/final_test/image_1255.tif', '/content/gdrive/My Drive/final_test/image_1258.tif', '/content/gdrive/My Drive/final_test/image_1263.tif', '/content/gdrive/My Drive/final_test/image_1261.tif', '/content/gdrive/My Drive/final_test/image_1262.tif', '/content/gdrive/My Drive/final_test/image_1260.tif', '/content/gdrive/My Drive/final_test/image_1259.tif', '/content/gdrive/My Drive/final_test/image_1265.tif', '/content/gdrive/My Drive/final_test/image_1264.tif', '/content/gdrive/My Drive/final_test/image_1267.tif', '/content/gdrive/My Drive/final_test/image_1266.tif', '/content/gdrive/My Drive/final_test/image_1268.tif', '/content/gdrive/My Drive/final_test/image_1272.tif', '/content/gdrive/My Drive/final_test/image_1270.tif', '/content/gdrive/My Drive/final_test/image_1273.tif', '/content/gdrive/My Drive/final_test/image_1269.tif', '/content/gdrive/My Drive/final_test/image_1271.tif', '/content/gdrive/My Drive/final_test/image_1276.tif', '/content/gdrive/My Drive/final_test/image_1277.tif', '/content/gdrive/My Drive/final_test/image_1275.tif', '/content/gdrive/My Drive/final_test/image_1274.tif', '/content/gdrive/My Drive/final_test/image_1278.tif', '/content/gdrive/My Drive/final_test/image_1283.tif', '/content/gdrive/My Drive/final_test/image_1280.tif', '/content/gdrive/My Drive/final_test/image_1282.tif', '/content/gdrive/My Drive/final_test/image_1281.tif', '/content/gdrive/My Drive/final_test/image_1279.tif', '/content/gdrive/My Drive/final_test/image_1285.tif', '/content/gdrive/My Drive/final_test/image_1287.tif', '/content/gdrive/My Drive/final_test/image_1284.tif', '/content/gdrive/My Drive/final_test/image_1286.tif', '/content/gdrive/My Drive/final_test/image_1288.tif', '/content/gdrive/My Drive/final_test/image_1290.tif', '/content/gdrive/My Drive/final_test/image_1289.tif', '/content/gdrive/My Drive/final_test/image_1294.tif', '/content/gdrive/My Drive/final_test/image_1292.tif', '/content/gdrive/My Drive/final_test/image_1296.tif', '/content/gdrive/My Drive/final_test/image_1291.tif', '/content/gdrive/My Drive/final_test/image_1295.tif', '/content/gdrive/My Drive/final_test/image_1293.tif', '/content/gdrive/My Drive/final_test/image_1297.tif', '/content/gdrive/My Drive/final_test/image_1298.tif', '/content/gdrive/My Drive/final_test/image_1307.tif', '/content/gdrive/My Drive/final_test/image_1304.tif', '/content/gdrive/My Drive/final_test/image_1301.tif', '/content/gdrive/My Drive/final_test/image_1303.tif', '/content/gdrive/My Drive/final_test/image_1302.tif', '/content/gdrive/My Drive/final_test/image_1300.tif', '/content/gdrive/My Drive/final_test/image_1299.tif', '/content/gdrive/My Drive/final_test/image_1308.tif', '/content/gdrive/My Drive/final_test/image_1305.tif', '/content/gdrive/My Drive/final_test/image_1306.tif', '/content/gdrive/My Drive/final_test/image_1309.tif', '/content/gdrive/My Drive/final_test/image_1310.tif', '/content/gdrive/My Drive/final_test/image_1319.tif', '/content/gdrive/My Drive/final_test/image_1311.tif', '/content/gdrive/My Drive/final_test/image_1315.tif', '/content/gdrive/My Drive/final_test/image_1312.tif', '/content/gdrive/My Drive/final_test/image_1316.tif', '/content/gdrive/My Drive/final_test/image_1314.tif', '/content/gdrive/My Drive/final_test/image_1313.tif', '/content/gdrive/My Drive/final_test/image_1320.tif', '/content/gdrive/My Drive/final_test/image_1317.tif', '/content/gdrive/My Drive/final_test/image_1318.tif', '/content/gdrive/My Drive/final_test/image_1321.tif', '/content/gdrive/My Drive/final_test/image_1322.tif', '/content/gdrive/My Drive/final_test/image_1331.tif', '/content/gdrive/My Drive/final_test/image_1324.tif', '/content/gdrive/My Drive/final_test/image_1329.tif', '/content/gdrive/My Drive/final_test/image_1323.tif', '/content/gdrive/My Drive/final_test/image_1326.tif', '/content/gdrive/My Drive/final_test/image_1325.tif', '/content/gdrive/My Drive/final_test/image_1332.tif', '/content/gdrive/My Drive/final_test/image_1328.tif', '/content/gdrive/My Drive/final_test/image_1327.tif', '/content/gdrive/My Drive/final_test/image_1330.tif', '/content/gdrive/My Drive/final_test/image_1333.tif', '/content/gdrive/My Drive/final_test/image_1334.tif', '/content/gdrive/My Drive/final_test/image_1343.tif', '/content/gdrive/My Drive/final_test/image_1338.tif', '/content/gdrive/My Drive/final_test/image_1337.tif', '/content/gdrive/My Drive/final_test/image_1336.tif', '/content/gdrive/My Drive/final_test/image_1335.tif', '/content/gdrive/My Drive/final_test/image_1344.tif', '/content/gdrive/My Drive/final_test/image_1341.tif', '/content/gdrive/My Drive/final_test/image_1340.tif', '/content/gdrive/My Drive/final_test/image_1342.tif', '/content/gdrive/My Drive/final_test/image_1339.tif', '/content/gdrive/My Drive/final_test/image_1345.tif', '/content/gdrive/My Drive/final_test/image_1346.tif', '/content/gdrive/My Drive/final_test/image_1355.tif', '/content/gdrive/My Drive/final_test/image_1348.tif', '/content/gdrive/My Drive/final_test/image_1347.tif', '/content/gdrive/My Drive/final_test/image_1350.tif', '/content/gdrive/My Drive/final_test/image_1356.tif', '/content/gdrive/My Drive/final_test/image_1353.tif', '/content/gdrive/My Drive/final_test/image_1354.tif', '/content/gdrive/My Drive/final_test/image_1352.tif', '/content/gdrive/My Drive/final_test/image_1351.tif', '/content/gdrive/My Drive/final_test/image_1349.tif', '/content/gdrive/My Drive/final_test/image_1357.tif', '/content/gdrive/My Drive/final_test/image_1358.tif', '/content/gdrive/My Drive/final_test/image_1368.tif', '/content/gdrive/My Drive/final_test/image_1365.tif', '/content/gdrive/My Drive/final_test/image_1359.tif', '/content/gdrive/My Drive/final_test/image_1362.tif', '/content/gdrive/My Drive/final_test/image_1363.tif', '/content/gdrive/My Drive/final_test/image_1360.tif', '/content/gdrive/My Drive/final_test/image_1369.tif', '/content/gdrive/My Drive/final_test/image_1367.tif', '/content/gdrive/My Drive/final_test/image_1361.tif', '/content/gdrive/My Drive/final_test/image_1366.tif', '/content/gdrive/My Drive/final_test/image_1370.tif', '/content/gdrive/My Drive/final_test/image_1371.tif', '/content/gdrive/My Drive/final_test/image_1380.tif', '/content/gdrive/My Drive/final_test/image_1373.tif', '/content/gdrive/My Drive/final_test/image_1377.tif', '/content/gdrive/My Drive/final_test/image_1372.tif', '/content/gdrive/My Drive/final_test/image_1376.tif', '/content/gdrive/My Drive/final_test/image_1374.tif', '/content/gdrive/My Drive/final_test/image_1375.tif', '/content/gdrive/My Drive/final_test/image_1381.tif', '/content/gdrive/My Drive/final_test/image_1379.tif', '/content/gdrive/My Drive/final_test/image_1378.tif', '/content/gdrive/My Drive/final_test/image_1382.tif', '/content/gdrive/My Drive/final_test/image_1383.tif', '/content/gdrive/My Drive/final_test/image_1392.tif', '/content/gdrive/My Drive/final_test/image_1386.tif', '/content/gdrive/My Drive/final_test/image_1385.tif', '/content/gdrive/My Drive/final_test/image_1384.tif', '/content/gdrive/My Drive/final_test/image_1387.tif', '/content/gdrive/My Drive/final_test/image_1393.tif', '/content/gdrive/My Drive/final_test/image_1388.tif', '/content/gdrive/My Drive/final_test/image_1391.tif', '/content/gdrive/My Drive/final_test/image_1389.tif', '/content/gdrive/My Drive/final_test/image_1390.tif', '/content/gdrive/My Drive/final_test/image_1394.tif', '/content/gdrive/My Drive/final_test/image_1395.tif', '/content/gdrive/My Drive/final_test/image_1404.tif', '/content/gdrive/My Drive/final_test/image_1400.tif', '/content/gdrive/My Drive/final_test/image_1396.tif', '/content/gdrive/My Drive/final_test/image_1397.tif', '/content/gdrive/My Drive/final_test/image_1398.tif', '/content/gdrive/My Drive/final_test/image_1399.tif', '/content/gdrive/My Drive/final_test/image_1405.tif', '/content/gdrive/My Drive/final_test/image_1402.tif', '/content/gdrive/My Drive/final_test/image_1403.tif', '/content/gdrive/My Drive/final_test/image_1401.tif', '/content/gdrive/My Drive/final_test/image_1406.tif', '/content/gdrive/My Drive/final_test/image_1407.tif', '/content/gdrive/My Drive/final_test/image_1416.tif', '/content/gdrive/My Drive/final_test/image_1411.tif', '/content/gdrive/My Drive/final_test/image_1409.tif', '/content/gdrive/My Drive/final_test/image_1412.tif', '/content/gdrive/My Drive/final_test/image_1408.tif', '/content/gdrive/My Drive/final_test/image_1410.tif', '/content/gdrive/My Drive/final_test/image_1417.tif', '/content/gdrive/My Drive/final_test/image_1413.tif', '/content/gdrive/My Drive/final_test/image_1414.tif', '/content/gdrive/My Drive/final_test/image_1415.tif', '/content/gdrive/My Drive/final_test/image_1418.tif', '/content/gdrive/My Drive/final_test/image_1419.tif', '/content/gdrive/My Drive/final_test/image_1420.tif', '/content/gdrive/My Drive/final_test/image_1429.tif', '/content/gdrive/My Drive/final_test/image_1428.tif', '/content/gdrive/My Drive/final_test/image_1421.tif', '/content/gdrive/My Drive/final_test/image_1422.tif', '/content/gdrive/My Drive/final_test/image_1424.tif', '/content/gdrive/My Drive/final_test/image_1427.tif', '/content/gdrive/My Drive/final_test/image_1423.tif', '/content/gdrive/My Drive/final_test/image_1426.tif', '/content/gdrive/My Drive/final_test/image_1425.tif', '/content/gdrive/My Drive/final_test/image_1430.tif', '/content/gdrive/My Drive/final_test/image_1431.tif', '/content/gdrive/My Drive/final_test/image_1432.tif', '/content/gdrive/My Drive/final_test/image_1433.tif', '/content/gdrive/My Drive/final_test/image_1436.tif', '/content/gdrive/My Drive/final_test/image_1435.tif', '/content/gdrive/My Drive/final_test/image_1434.tif', '/content/gdrive/My Drive/final_test/image_1437.tif', '/content/gdrive/My Drive/final_test/image_1442.tif', '/content/gdrive/My Drive/final_test/image_1441.tif', '/content/gdrive/My Drive/final_test/image_1439.tif', '/content/gdrive/My Drive/final_test/image_1440.tif', '/content/gdrive/My Drive/final_test/image_1438.tif', '/content/gdrive/My Drive/final_test/image_1443.tif', '/content/gdrive/My Drive/final_test/image_1444.tif', '/content/gdrive/My Drive/final_test/image_1453.tif', '/content/gdrive/My Drive/final_test/image_1447.tif', '/content/gdrive/My Drive/final_test/image_1448.tif', '/content/gdrive/My Drive/final_test/image_1445.tif', '/content/gdrive/My Drive/final_test/image_1446.tif', '/content/gdrive/My Drive/final_test/image_1454.tif', '/content/gdrive/My Drive/final_test/image_1450.tif', '/content/gdrive/My Drive/final_test/image_1449.tif', '/content/gdrive/My Drive/final_test/image_1451.tif', '/content/gdrive/My Drive/final_test/image_1452.tif', '/content/gdrive/My Drive/final_test/image_1455.tif', '/content/gdrive/My Drive/final_test/image_1465.tif', '/content/gdrive/My Drive/final_test/image_1466.tif', '/content/gdrive/My Drive/final_test/image_1456.tif', '/content/gdrive/My Drive/final_test/image_1467.tif', '/content/gdrive/My Drive/final_test/image_1460.tif', '/content/gdrive/My Drive/final_test/image_1464.tif', '/content/gdrive/My Drive/final_test/image_1463.tif', '/content/gdrive/My Drive/final_test/image_1461.tif', '/content/gdrive/My Drive/final_test/image_1462.tif', '/content/gdrive/My Drive/final_test/image_1457.tif', '/content/gdrive/My Drive/final_test/image_1458.tif', '/content/gdrive/My Drive/final_test/image_1459.tif', '/content/gdrive/My Drive/final_test/image_1468.tif', '/content/gdrive/My Drive/final_test/image_1469.tif', '/content/gdrive/My Drive/final_test/image_1470.tif', '/content/gdrive/My Drive/final_test/image_1479.tif', '/content/gdrive/My Drive/final_test/image_1476.tif', '/content/gdrive/My Drive/final_test/image_1471.tif', '/content/gdrive/My Drive/final_test/image_1474.tif', '/content/gdrive/My Drive/final_test/image_1475.tif', '/content/gdrive/My Drive/final_test/image_1473.tif', '/content/gdrive/My Drive/final_test/image_1472.tif', '/content/gdrive/My Drive/final_test/image_1480.tif', '/content/gdrive/My Drive/final_test/image_1477.tif', '/content/gdrive/My Drive/final_test/image_1478.tif', '/content/gdrive/My Drive/final_test/image_1481.tif', '/content/gdrive/My Drive/final_test/image_1482.tif', '/content/gdrive/My Drive/final_test/image_1491.tif', '/content/gdrive/My Drive/final_test/image_1483.tif', '/content/gdrive/My Drive/final_test/image_1492.tif', '/content/gdrive/My Drive/final_test/image_1490.tif', '/content/gdrive/My Drive/final_test/image_1484.tif', '/content/gdrive/My Drive/final_test/image_1486.tif', '/content/gdrive/My Drive/final_test/image_1487.tif', '/content/gdrive/My Drive/final_test/image_1485.tif', '/content/gdrive/My Drive/final_test/image_1488.tif', '/content/gdrive/My Drive/final_test/image_1489.tif', '/content/gdrive/My Drive/final_test/image_1493.tif', '/content/gdrive/My Drive/final_test/image_1494.tif', '/content/gdrive/My Drive/final_test/image_1503.tif', '/content/gdrive/My Drive/final_test/image_1495.tif', '/content/gdrive/My Drive/final_test/image_1497.tif', '/content/gdrive/My Drive/final_test/image_1496.tif', '/content/gdrive/My Drive/final_test/image_1504.tif', '/content/gdrive/My Drive/final_test/image_1500.tif', '/content/gdrive/My Drive/final_test/image_1502.tif', '/content/gdrive/My Drive/final_test/image_1499.tif', '/content/gdrive/My Drive/final_test/image_1501.tif', '/content/gdrive/My Drive/final_test/image_1498.tif', '/content/gdrive/My Drive/final_test/image_1505.tif', '/content/gdrive/My Drive/final_test/image_1506.tif', '/content/gdrive/My Drive/final_test/image_1507.tif', '/content/gdrive/My Drive/final_test/image_1516.tif', '/content/gdrive/My Drive/final_test/image_1508.tif', '/content/gdrive/My Drive/final_test/image_1510.tif', '/content/gdrive/My Drive/final_test/image_1509.tif', '/content/gdrive/My Drive/final_test/image_1517.tif', '/content/gdrive/My Drive/final_test/image_1511.tif', '/content/gdrive/My Drive/final_test/image_1515.tif', '/content/gdrive/My Drive/final_test/image_1514.tif', '/content/gdrive/My Drive/final_test/image_1512.tif', '/content/gdrive/My Drive/final_test/image_1513.tif', '/content/gdrive/My Drive/final_test/image_1518.tif', '/content/gdrive/My Drive/final_test/image_1519.tif', '/content/gdrive/My Drive/final_test/image_1528.tif', '/content/gdrive/My Drive/final_test/image_1520.tif', '/content/gdrive/My Drive/final_test/image_1521.tif', '/content/gdrive/My Drive/final_test/image_1529.tif', '/content/gdrive/My Drive/final_test/image_1524.tif', '/content/gdrive/My Drive/final_test/image_1525.tif', '/content/gdrive/My Drive/final_test/image_1526.tif', '/content/gdrive/My Drive/final_test/image_1522.tif', '/content/gdrive/My Drive/final_test/image_1523.tif', '/content/gdrive/My Drive/final_test/image_1527.tif', '/content/gdrive/My Drive/final_test/image_1530.tif', '/content/gdrive/My Drive/final_test/image_1531.tif', '/content/gdrive/My Drive/final_test/image_1540.tif', '/content/gdrive/My Drive/final_test/image_1541.tif', '/content/gdrive/My Drive/final_test/image_1539.tif', '/content/gdrive/My Drive/final_test/image_1538.tif', '/content/gdrive/My Drive/final_test/image_1532.tif', '/content/gdrive/My Drive/final_test/image_1537.tif', '/content/gdrive/My Drive/final_test/image_1533.tif', '/content/gdrive/My Drive/final_test/image_1535.tif', '/content/gdrive/My Drive/final_test/image_1534.tif', '/content/gdrive/My Drive/final_test/image_1536.tif', '/content/gdrive/My Drive/final_test/image_1542.tif', '/content/gdrive/My Drive/final_test/image_1543.tif', '/content/gdrive/My Drive/final_test/image_1552.tif', '/content/gdrive/My Drive/final_test/image_1545.tif', '/content/gdrive/My Drive/final_test/image_1546.tif', '/content/gdrive/My Drive/final_test/image_1544.tif', '/content/gdrive/My Drive/final_test/image_1548.tif', '/content/gdrive/My Drive/final_test/image_1547.tif', '/content/gdrive/My Drive/final_test/image_1553.tif', '/content/gdrive/My Drive/final_test/image_1550.tif', '/content/gdrive/My Drive/final_test/image_1551.tif', '/content/gdrive/My Drive/final_test/image_1549.tif', '/content/gdrive/My Drive/final_test/image_1554.tif', '/content/gdrive/My Drive/final_test/image_1555.tif', '/content/gdrive/My Drive/final_test/image_1564.tif', '/content/gdrive/My Drive/final_test/image_1558.tif', '/content/gdrive/My Drive/final_test/image_1556.tif', '/content/gdrive/My Drive/final_test/image_1559.tif', '/content/gdrive/My Drive/final_test/image_1557.tif', '/content/gdrive/My Drive/final_test/image_1560.tif', '/content/gdrive/My Drive/final_test/image_1565.tif', '/content/gdrive/My Drive/final_test/image_1563.tif', '/content/gdrive/My Drive/final_test/image_1561.tif', '/content/gdrive/My Drive/final_test/image_1562.tif', '/content/gdrive/My Drive/final_test/image_1566.tif', '/content/gdrive/My Drive/final_test/image_1567.tif', '/content/gdrive/My Drive/final_test/image_1576.tif', '/content/gdrive/My Drive/final_test/image_1569.tif', '/content/gdrive/My Drive/final_test/image_1568.tif', '/content/gdrive/My Drive/final_test/image_1571.tif', '/content/gdrive/My Drive/final_test/image_1572.tif', '/content/gdrive/My Drive/final_test/image_1570.tif', '/content/gdrive/My Drive/final_test/image_1577.tif', '/content/gdrive/My Drive/final_test/image_1573.tif', '/content/gdrive/My Drive/final_test/image_1574.tif', '/content/gdrive/My Drive/final_test/image_1575.tif', '/content/gdrive/My Drive/final_test/image_1578.tif', '/content/gdrive/My Drive/final_test/image_1579.tif', '/content/gdrive/My Drive/final_test/image_1588.tif', '/content/gdrive/My Drive/final_test/image_1581.tif', '/content/gdrive/My Drive/final_test/image_1583.tif', '/content/gdrive/My Drive/final_test/image_1580.tif', '/content/gdrive/My Drive/final_test/image_1584.tif', '/content/gdrive/My Drive/final_test/image_1582.tif', '/content/gdrive/My Drive/final_test/image_1585.tif', '/content/gdrive/My Drive/final_test/image_1589.tif', '/content/gdrive/My Drive/final_test/image_1590.tif', '/content/gdrive/My Drive/final_test/image_1586.tif', '/content/gdrive/My Drive/final_test/image_1587.tif', '/content/gdrive/My Drive/final_test/image_1591.tif', '/content/gdrive/My Drive/final_test/image_1592.tif', '/content/gdrive/My Drive/final_test/image_1601.tif', '/content/gdrive/My Drive/final_test/image_1597.tif', '/content/gdrive/My Drive/final_test/image_1595.tif', '/content/gdrive/My Drive/final_test/image_1593.tif', '/content/gdrive/My Drive/final_test/image_1596.tif', '/content/gdrive/My Drive/final_test/image_1594.tif', '/content/gdrive/My Drive/final_test/image_1602.tif', '/content/gdrive/My Drive/final_test/image_1599.tif', '/content/gdrive/My Drive/final_test/image_1600.tif', '/content/gdrive/My Drive/final_test/image_1598.tif', '/content/gdrive/My Drive/final_test/image_1603.tif', '/content/gdrive/My Drive/final_test/image_1604.tif', '/content/gdrive/My Drive/final_test/image_1613.tif', '/content/gdrive/My Drive/final_test/image_1606.tif', '/content/gdrive/My Drive/final_test/image_1607.tif', '/content/gdrive/My Drive/final_test/image_1609.tif', '/content/gdrive/My Drive/final_test/image_1608.tif', '/content/gdrive/My Drive/final_test/image_1605.tif', '/content/gdrive/My Drive/final_test/image_1614.tif', '/content/gdrive/My Drive/final_test/image_1610.tif', '/content/gdrive/My Drive/final_test/image_1612.tif', '/content/gdrive/My Drive/final_test/image_1611.tif', '/content/gdrive/My Drive/final_test/image_1615.tif', '/content/gdrive/My Drive/final_test/image_1616.tif', '/content/gdrive/My Drive/final_test/image_1625.tif', '/content/gdrive/My Drive/final_test/image_1618.tif', '/content/gdrive/My Drive/final_test/image_1620.tif', '/content/gdrive/My Drive/final_test/image_1617.tif', '/content/gdrive/My Drive/final_test/image_1619.tif', '/content/gdrive/My Drive/final_test/image_1626.tif', '/content/gdrive/My Drive/final_test/image_1622.tif', '/content/gdrive/My Drive/final_test/image_1623.tif', '/content/gdrive/My Drive/final_test/image_1624.tif', '/content/gdrive/My Drive/final_test/image_1621.tif', '/content/gdrive/My Drive/final_test/image_1627.tif', '/content/gdrive/My Drive/final_test/image_1628.tif', '/content/gdrive/My Drive/final_test/image_1632.tif', '/content/gdrive/My Drive/final_test/image_1629.tif', '/content/gdrive/My Drive/final_test/image_1631.tif', '/content/gdrive/My Drive/final_test/image_1630.tif', '/content/gdrive/My Drive/final_test/image_1637.tif', '/content/gdrive/My Drive/final_test/image_1638.tif', '/content/gdrive/My Drive/final_test/image_1635.tif', '/content/gdrive/My Drive/final_test/image_1636.tif', '/content/gdrive/My Drive/final_test/image_1634.tif', '/content/gdrive/My Drive/final_test/image_1633.tif', '/content/gdrive/My Drive/final_test/image_1639.tif', '/content/gdrive/My Drive/final_test/image_1640.tif', '/content/gdrive/My Drive/final_test/image_1649.tif', '/content/gdrive/My Drive/final_test/image_1645.tif', '/content/gdrive/My Drive/final_test/image_1642.tif', '/content/gdrive/My Drive/final_test/image_1644.tif', '/content/gdrive/My Drive/final_test/image_1643.tif', '/content/gdrive/My Drive/final_test/image_1641.tif', '/content/gdrive/My Drive/final_test/image_1650.tif', '/content/gdrive/My Drive/final_test/image_1647.tif', '/content/gdrive/My Drive/final_test/image_1646.tif', '/content/gdrive/My Drive/final_test/image_1648.tif', '/content/gdrive/My Drive/final_test/image_1651.tif', '/content/gdrive/My Drive/final_test/image_1652.tif', '/content/gdrive/My Drive/final_test/image_1661.tif', '/content/gdrive/My Drive/final_test/image_1655.tif', '/content/gdrive/My Drive/final_test/image_1653.tif', '/content/gdrive/My Drive/final_test/image_1656.tif', '/content/gdrive/My Drive/final_test/image_1658.tif', '/content/gdrive/My Drive/final_test/image_1657.tif', '/content/gdrive/My Drive/final_test/image_1654.tif', '/content/gdrive/My Drive/final_test/image_1662.tif', '/content/gdrive/My Drive/final_test/image_1660.tif', '/content/gdrive/My Drive/final_test/image_1659.tif', '/content/gdrive/My Drive/final_test/image_1663.tif', '/content/gdrive/My Drive/final_test/image_1664.tif', '/content/gdrive/My Drive/final_test/image_1673.tif', '/content/gdrive/My Drive/final_test/image_1665.tif', '/content/gdrive/My Drive/final_test/image_1667.tif', '/content/gdrive/My Drive/final_test/image_1666.tif', '/content/gdrive/My Drive/final_test/image_1674.tif', '/content/gdrive/My Drive/final_test/image_1668.tif', '/content/gdrive/My Drive/final_test/image_1672.tif', '/content/gdrive/My Drive/final_test/image_1669.tif', '/content/gdrive/My Drive/final_test/image_1670.tif', '/content/gdrive/My Drive/final_test/image_1671.tif', '/content/gdrive/My Drive/final_test/image_1675.tif', '/content/gdrive/My Drive/final_test/image_1676.tif', '/content/gdrive/My Drive/final_test/image_1685.tif', '/content/gdrive/My Drive/final_test/image_1681.tif', '/content/gdrive/My Drive/final_test/image_1680.tif', '/content/gdrive/My Drive/final_test/image_1679.tif', '/content/gdrive/My Drive/final_test/image_1677.tif', '/content/gdrive/My Drive/final_test/image_1678.tif', '/content/gdrive/My Drive/final_test/image_1686.tif', '/content/gdrive/My Drive/final_test/image_1684.tif', '/content/gdrive/My Drive/final_test/image_1683.tif', '/content/gdrive/My Drive/final_test/image_1682.tif', '/content/gdrive/My Drive/final_test/image_1687.tif', '/content/gdrive/My Drive/final_test/image_1688.tif', '/content/gdrive/My Drive/final_test/image_1697.tif', '/content/gdrive/My Drive/final_test/image_1690.tif', '/content/gdrive/My Drive/final_test/image_1689.tif', '/content/gdrive/My Drive/final_test/image_1692.tif', '/content/gdrive/My Drive/final_test/image_1691.tif', '/content/gdrive/My Drive/final_test/image_1698.tif', '/content/gdrive/My Drive/final_test/image_1696.tif', '/content/gdrive/My Drive/final_test/image_1695.tif', '/content/gdrive/My Drive/final_test/image_1694.tif', '/content/gdrive/My Drive/final_test/image_1693.tif', '/content/gdrive/My Drive/final_test/image_1699.tif', '/content/gdrive/My Drive/final_test/image_1700.tif', '/content/gdrive/My Drive/final_test/image_1709.tif', '/content/gdrive/My Drive/final_test/image_1702.tif', '/content/gdrive/My Drive/final_test/image_1703.tif', '/content/gdrive/My Drive/final_test/image_1704.tif', '/content/gdrive/My Drive/final_test/image_1701.tif', '/content/gdrive/My Drive/final_test/image_1710.tif', '/content/gdrive/My Drive/final_test/image_1707.tif', '/content/gdrive/My Drive/final_test/image_1706.tif', '/content/gdrive/My Drive/final_test/image_1708.tif', '/content/gdrive/My Drive/final_test/image_1705.tif', '/content/gdrive/My Drive/final_test/image_1712.tif', '/content/gdrive/My Drive/final_test/image_1711.tif', '/content/gdrive/My Drive/final_test/image_1713.tif', '/content/gdrive/My Drive/final_test/image_1714.tif', '/content/gdrive/My Drive/final_test/image_1715.tif', '/content/gdrive/My Drive/final_test/image_1716.tif', '/content/gdrive/My Drive/final_test/image_1721.tif', '/content/gdrive/My Drive/final_test/image_1719.tif', '/content/gdrive/My Drive/final_test/image_1720.tif', '/content/gdrive/My Drive/final_test/image_1717.tif', '/content/gdrive/My Drive/final_test/image_1718.tif', '/content/gdrive/My Drive/final_test/image_1722.tif', '/content/gdrive/My Drive/final_test/image_1723.tif', '/content/gdrive/My Drive/final_test/image_1724.tif', '/content/gdrive/My Drive/final_test/image_1725.tif', '/content/gdrive/My Drive/final_test/image_1726.tif', '/content/gdrive/My Drive/final_test/image_1727.tif', '/content/gdrive/My Drive/final_test/image_1728.tif', '/content/gdrive/My Drive/final_test/image_1729.tif', '/content/gdrive/My Drive/final_test/image_1730.tif', '/content/gdrive/My Drive/final_test/image_1731.tif', '/content/gdrive/My Drive/final_test/image_1732.tif', '/content/gdrive/My Drive/final_test/image_1733.tif', '/content/gdrive/My Drive/final_test/image_1742.tif', '/content/gdrive/My Drive/final_test/image_1734.tif', '/content/gdrive/My Drive/final_test/image_1735.tif', '/content/gdrive/My Drive/final_test/image_1738.tif', '/content/gdrive/My Drive/final_test/image_1736.tif', '/content/gdrive/My Drive/final_test/image_1737.tif', '/content/gdrive/My Drive/final_test/image_1743.tif', '/content/gdrive/My Drive/final_test/image_1739.tif', '/content/gdrive/My Drive/final_test/image_1740.tif', '/content/gdrive/My Drive/final_test/image_1741.tif', '/content/gdrive/My Drive/final_test/image_1744.tif', '/content/gdrive/My Drive/final_test/image_1745.tif', '/content/gdrive/My Drive/final_test/image_1754.tif', '/content/gdrive/My Drive/final_test/image_1746.tif', '/content/gdrive/My Drive/final_test/image_1749.tif', '/content/gdrive/My Drive/final_test/image_1748.tif', '/content/gdrive/My Drive/final_test/image_1747.tif', '/content/gdrive/My Drive/final_test/image_1755.tif', '/content/gdrive/My Drive/final_test/image_1753.tif', '/content/gdrive/My Drive/final_test/image_1752.tif', '/content/gdrive/My Drive/final_test/image_1750.tif', '/content/gdrive/My Drive/final_test/image_1751.tif', '/content/gdrive/My Drive/final_test/image_1756.tif', '/content/gdrive/My Drive/final_test/image_1757.tif', '/content/gdrive/My Drive/final_test/image_1766.tif', '/content/gdrive/My Drive/final_test/image_1764.tif', '/content/gdrive/My Drive/final_test/image_1759.tif', '/content/gdrive/My Drive/final_test/image_1762.tif', '/content/gdrive/My Drive/final_test/image_1761.tif', '/content/gdrive/My Drive/final_test/image_1760.tif', '/content/gdrive/My Drive/final_test/image_1763.tif', '/content/gdrive/My Drive/final_test/image_1758.tif', '/content/gdrive/My Drive/final_test/image_1767.tif', '/content/gdrive/My Drive/final_test/image_1765.tif', '/content/gdrive/My Drive/final_test/image_1768.tif', '/content/gdrive/My Drive/final_test/image_1769.tif', '/content/gdrive/My Drive/final_test/output.csv', '/content/gdrive/My Drive/final_test/image_1364.tif', '/content/gdrive/My Drive/final_test/image_0000.tif', '/content/gdrive/My Drive/final_test/image_0004.tif', '/content/gdrive/My Drive/final_test/image_0008.tif', '/content/gdrive/My Drive/final_test/image_0007.tif', '/content/gdrive/My Drive/final_test/image_0002.tif', '/content/gdrive/My Drive/final_test/image_0005.tif', '/content/gdrive/My Drive/final_test/image_0001.tif', '/content/gdrive/My Drive/final_test/image_0003.tif', '/content/gdrive/My Drive/final_test/image_0006.tif', '/content/gdrive/My Drive/final_test/image_0009.tif', '/content/gdrive/My Drive/final_test/image_0014.tif', '/content/gdrive/My Drive/final_test/image_0010.tif', '/content/gdrive/My Drive/final_test/image_0012.tif', '/content/gdrive/My Drive/final_test/image_0011.tif', '/content/gdrive/My Drive/final_test/image_0013.tif', '/content/gdrive/My Drive/final_test/image_0018.tif', '/content/gdrive/My Drive/final_test/image_0017.tif', '/content/gdrive/My Drive/final_test/image_0016.tif', '/content/gdrive/My Drive/final_test/image_0015.tif', '/content/gdrive/My Drive/final_test/image_0019.tif', '/content/gdrive/My Drive/final_test/image_0026.tif', '/content/gdrive/My Drive/final_test/image_0022.tif', '/content/gdrive/My Drive/final_test/image_0020.tif', '/content/gdrive/My Drive/final_test/image_0025.tif', '/content/gdrive/My Drive/final_test/image_0024.tif', '/content/gdrive/My Drive/final_test/image_0021.tif', '/content/gdrive/My Drive/final_test/image_0023.tif', '/content/gdrive/My Drive/final_test/image_0028.tif', '/content/gdrive/My Drive/final_test/image_0027.tif', '/content/gdrive/My Drive/final_test/image_0029.tif', '/content/gdrive/My Drive/final_test/image_0033.tif', '/content/gdrive/My Drive/final_test/image_0034.tif', '/content/gdrive/My Drive/final_test/image_0030.tif', '/content/gdrive/My Drive/final_test/image_0032.tif', '/content/gdrive/My Drive/final_test/image_0031.tif', '/content/gdrive/My Drive/final_test/image_0038.tif', '/content/gdrive/My Drive/final_test/image_0035.tif', '/content/gdrive/My Drive/final_test/image_0037.tif', '/content/gdrive/My Drive/final_test/image_0036.tif', '/content/gdrive/My Drive/final_test/image_0039.tif', '/content/gdrive/My Drive/final_test/image_0043.tif', '/content/gdrive/My Drive/final_test/image_0045.tif', '/content/gdrive/My Drive/final_test/image_0040.tif', '/content/gdrive/My Drive/final_test/image_0042.tif', '/content/gdrive/My Drive/final_test/image_0046.tif', '/content/gdrive/My Drive/final_test/image_0041.tif', '/content/gdrive/My Drive/final_test/image_0044.tif', '/content/gdrive/My Drive/final_test/image_0048.tif', '/content/gdrive/My Drive/final_test/image_0047.tif', '/content/gdrive/My Drive/final_test/image_0049.tif', '/content/gdrive/My Drive/final_test/image_0053.tif', '/content/gdrive/My Drive/final_test/image_0057.tif', '/content/gdrive/My Drive/final_test/image_0056.tif', '/content/gdrive/My Drive/final_test/image_0050.tif', '/content/gdrive/My Drive/final_test/image_0055.tif', '/content/gdrive/My Drive/final_test/image_0054.tif', '/content/gdrive/My Drive/final_test/image_0051.tif', '/content/gdrive/My Drive/final_test/image_0052.tif', '/content/gdrive/My Drive/final_test/image_0058.tif', '/content/gdrive/My Drive/final_test/image_0059.tif', '/content/gdrive/My Drive/final_test/image_0061.tif', '/content/gdrive/My Drive/final_test/image_0060.tif', '/content/gdrive/My Drive/final_test/image_0062.tif', '/content/gdrive/My Drive/final_test/image_0063.tif', '/content/gdrive/My Drive/final_test/image_0067.tif', '/content/gdrive/My Drive/final_test/image_0068.tif', '/content/gdrive/My Drive/final_test/image_0065.tif', '/content/gdrive/My Drive/final_test/image_0066.tif', '/content/gdrive/My Drive/final_test/image_0064.tif', '/content/gdrive/My Drive/final_test/image_0069.tif', '/content/gdrive/My Drive/final_test/image_0071.tif', '/content/gdrive/My Drive/final_test/image_0072.tif', '/content/gdrive/My Drive/final_test/image_0070.tif', '/content/gdrive/My Drive/final_test/image_0073.tif', '/content/gdrive/My Drive/final_test/image_0076.tif', '/content/gdrive/My Drive/final_test/image_0077.tif', '/content/gdrive/My Drive/final_test/image_0074.tif', '/content/gdrive/My Drive/final_test/image_0078.tif', '/content/gdrive/My Drive/final_test/image_0075.tif', '/content/gdrive/My Drive/final_test/image_0079.tif', '/content/gdrive/My Drive/final_test/image_0080.tif', '/content/gdrive/My Drive/final_test/image_0082.tif', '/content/gdrive/My Drive/final_test/image_0083.tif', '/content/gdrive/My Drive/final_test/image_0084.tif', '/content/gdrive/My Drive/final_test/image_0085.tif', '/content/gdrive/My Drive/final_test/image_0081.tif', '/content/gdrive/My Drive/final_test/image_0086.tif', '/content/gdrive/My Drive/final_test/image_0088.tif', '/content/gdrive/My Drive/final_test/image_0087.tif', '/content/gdrive/My Drive/final_test/image_0089.tif', '/content/gdrive/My Drive/final_test/image_0091.tif', '/content/gdrive/My Drive/final_test/image_0093.tif', '/content/gdrive/My Drive/final_test/image_0090.tif', '/content/gdrive/My Drive/final_test/image_0092.tif', '/content/gdrive/My Drive/final_test/image_0094.tif', '/content/gdrive/My Drive/final_test/image_0096.tif', '/content/gdrive/My Drive/final_test/image_0098.tif', '/content/gdrive/My Drive/final_test/image_0095.tif', '/content/gdrive/My Drive/final_test/image_0097.tif', '/content/gdrive/My Drive/final_test/image_0099.tif', '/content/gdrive/My Drive/final_test/image_0100.tif', '/content/gdrive/My Drive/final_test/image_0103.tif', '/content/gdrive/My Drive/final_test/image_0102.tif', '/content/gdrive/My Drive/final_test/image_0101.tif', '/content/gdrive/My Drive/final_test/image_0104.tif', '/content/gdrive/My Drive/final_test/image_0105.tif', '/content/gdrive/My Drive/final_test/image_0106.tif', '/content/gdrive/My Drive/final_test/image_0107.tif', '/content/gdrive/My Drive/final_test/image_0108.tif', '/content/gdrive/My Drive/final_test/image_0109.tif', '/content/gdrive/My Drive/final_test/image_0112.tif', '/content/gdrive/My Drive/final_test/image_0110.tif', '/content/gdrive/My Drive/final_test/image_0113.tif', '/content/gdrive/My Drive/final_test/image_0111.tif', '/content/gdrive/My Drive/final_test/image_0114.tif', '/content/gdrive/My Drive/final_test/image_0116.tif', '/content/gdrive/My Drive/final_test/image_0115.tif', '/content/gdrive/My Drive/final_test/image_0118.tif', '/content/gdrive/My Drive/final_test/image_0117.tif', '/content/gdrive/My Drive/final_test/image_0119.tif', '/content/gdrive/My Drive/final_test/image_0123.tif', '/content/gdrive/My Drive/final_test/image_0121.tif', '/content/gdrive/My Drive/final_test/image_0125.tif', '/content/gdrive/My Drive/final_test/image_0126.tif', '/content/gdrive/My Drive/final_test/image_0122.tif', '/content/gdrive/My Drive/final_test/image_0124.tif', '/content/gdrive/My Drive/final_test/image_0120.tif', '/content/gdrive/My Drive/final_test/image_0128.tif', '/content/gdrive/My Drive/final_test/image_0127.tif', '/content/gdrive/My Drive/final_test/image_0129.tif', '/content/gdrive/My Drive/final_test/image_0133.tif', '/content/gdrive/My Drive/final_test/image_0134.tif', '/content/gdrive/My Drive/final_test/image_0131.tif', '/content/gdrive/My Drive/final_test/image_0132.tif', '/content/gdrive/My Drive/final_test/image_0130.tif', '/content/gdrive/My Drive/final_test/image_0137.tif', '/content/gdrive/My Drive/final_test/image_0136.tif', '/content/gdrive/My Drive/final_test/image_0138.tif', '/content/gdrive/My Drive/final_test/image_0135.tif', '/content/gdrive/My Drive/final_test/image_0139.tif', '/content/gdrive/My Drive/final_test/image_0141.tif', '/content/gdrive/My Drive/final_test/image_0142.tif', '/content/gdrive/My Drive/final_test/image_0144.tif', '/content/gdrive/My Drive/final_test/image_0143.tif', '/content/gdrive/My Drive/final_test/image_0140.tif', '/content/gdrive/My Drive/final_test/image_0146.tif', '/content/gdrive/My Drive/final_test/image_0147.tif', '/content/gdrive/My Drive/final_test/image_0148.tif', '/content/gdrive/My Drive/final_test/image_0145.tif', '/content/gdrive/My Drive/final_test/image_0149.tif', '/content/gdrive/My Drive/final_test/image_0153.tif', '/content/gdrive/My Drive/final_test/image_0154.tif', '/content/gdrive/My Drive/final_test/image_0151.tif', '/content/gdrive/My Drive/final_test/image_0152.tif', '/content/gdrive/My Drive/final_test/image_0150.tif', '/content/gdrive/My Drive/final_test/image_0158.tif', '/content/gdrive/My Drive/final_test/image_0157.tif', '/content/gdrive/My Drive/final_test/image_0156.tif', '/content/gdrive/My Drive/final_test/image_0155.tif', '/content/gdrive/My Drive/final_test/image_0159.tif', '/content/gdrive/My Drive/final_test/image_0160.tif', '/content/gdrive/My Drive/final_test/image_0164.tif', '/content/gdrive/My Drive/final_test/image_0162.tif', '/content/gdrive/My Drive/final_test/image_0161.tif', '/content/gdrive/My Drive/final_test/image_0163.tif', '/content/gdrive/My Drive/final_test/image_0165.tif', '/content/gdrive/My Drive/final_test/image_0168.tif', '/content/gdrive/My Drive/final_test/image_0167.tif', '/content/gdrive/My Drive/final_test/image_0166.tif', '/content/gdrive/My Drive/final_test/image_0169.tif', '/content/gdrive/My Drive/final_test/image_0171.tif', '/content/gdrive/My Drive/final_test/image_0172.tif', '/content/gdrive/My Drive/final_test/image_0170.tif', '/content/gdrive/My Drive/final_test/image_0174.tif', '/content/gdrive/My Drive/final_test/image_0175.tif', '/content/gdrive/My Drive/final_test/image_0173.tif', '/content/gdrive/My Drive/final_test/image_0176.tif', '/content/gdrive/My Drive/final_test/image_0178.tif', '/content/gdrive/My Drive/final_test/image_0177.tif', '/content/gdrive/My Drive/final_test/image_0179.tif', '/content/gdrive/My Drive/final_test/image_0184.tif', '/content/gdrive/My Drive/final_test/image_0181.tif', '/content/gdrive/My Drive/final_test/image_0183.tif', '/content/gdrive/My Drive/final_test/image_0185.tif', '/content/gdrive/My Drive/final_test/image_0186.tif', '/content/gdrive/My Drive/final_test/image_0180.tif', '/content/gdrive/My Drive/final_test/image_0182.tif', '/content/gdrive/My Drive/final_test/image_0187.tif', '/content/gdrive/My Drive/final_test/image_0188.tif', '/content/gdrive/My Drive/final_test/image_0189.tif', '/content/gdrive/My Drive/final_test/image_0192.tif', '/content/gdrive/My Drive/final_test/image_0191.tif', '/content/gdrive/My Drive/final_test/image_0193.tif', '/content/gdrive/My Drive/final_test/image_0190.tif', '/content/gdrive/My Drive/final_test/image_0194.tif', '/content/gdrive/My Drive/final_test/image_0195.tif', '/content/gdrive/My Drive/final_test/image_0198.tif', '/content/gdrive/My Drive/final_test/image_0197.tif', '/content/gdrive/My Drive/final_test/image_0196.tif', '/content/gdrive/My Drive/final_test/image_0199.tif', '/content/gdrive/My Drive/final_test/image_0201.tif', '/content/gdrive/My Drive/final_test/image_0203.tif', '/content/gdrive/My Drive/final_test/image_0205.tif', '/content/gdrive/My Drive/final_test/image_0200.tif', '/content/gdrive/My Drive/final_test/image_0204.tif', '/content/gdrive/My Drive/final_test/image_0202.tif', '/content/gdrive/My Drive/final_test/image_0207.tif', '/content/gdrive/My Drive/final_test/image_0206.tif', '/content/gdrive/My Drive/final_test/image_0208.tif', '/content/gdrive/My Drive/final_test/image_0209.tif', '/content/gdrive/My Drive/final_test/image_0215.tif', '/content/gdrive/My Drive/final_test/image_0213.tif', '/content/gdrive/My Drive/final_test/image_0214.tif', '/content/gdrive/My Drive/final_test/image_0211.tif', '/content/gdrive/My Drive/final_test/image_0210.tif', '/content/gdrive/My Drive/final_test/image_0212.tif', '/content/gdrive/My Drive/final_test/image_0217.tif', '/content/gdrive/My Drive/final_test/image_0218.tif', '/content/gdrive/My Drive/final_test/image_0216.tif', '/content/gdrive/My Drive/final_test/image_0219.tif', '/content/gdrive/My Drive/final_test/image_0224.tif', '/content/gdrive/My Drive/final_test/image_0222.tif', '/content/gdrive/My Drive/final_test/image_0223.tif', '/content/gdrive/My Drive/final_test/image_0220.tif', '/content/gdrive/My Drive/final_test/image_0221.tif', '/content/gdrive/My Drive/final_test/image_0226.tif', '/content/gdrive/My Drive/final_test/image_0227.tif', '/content/gdrive/My Drive/final_test/image_0228.tif', '/content/gdrive/My Drive/final_test/image_0225.tif', '/content/gdrive/My Drive/final_test/image_0229.tif', '/content/gdrive/My Drive/final_test/image_0234.tif', '/content/gdrive/My Drive/final_test/image_0230.tif', '/content/gdrive/My Drive/final_test/image_0233.tif', '/content/gdrive/My Drive/final_test/image_0231.tif', '/content/gdrive/My Drive/final_test/image_0235.tif', '/content/gdrive/My Drive/final_test/image_0232.tif', '/content/gdrive/My Drive/final_test/image_0236.tif', '/content/gdrive/My Drive/final_test/image_0237.tif', '/content/gdrive/My Drive/final_test/image_0238.tif', '/content/gdrive/My Drive/final_test/image_0239.tif', '/content/gdrive/My Drive/final_test/image_0242.tif', '/content/gdrive/My Drive/final_test/image_0241.tif', '/content/gdrive/My Drive/final_test/image_0243.tif', '/content/gdrive/My Drive/final_test/image_0240.tif', '/content/gdrive/My Drive/final_test/image_0246.tif', '/content/gdrive/My Drive/final_test/image_0247.tif', '/content/gdrive/My Drive/final_test/image_0248.tif', '/content/gdrive/My Drive/final_test/image_0245.tif', '/content/gdrive/My Drive/final_test/image_0244.tif', '/content/gdrive/My Drive/final_test/image_0249.tif', '/content/gdrive/My Drive/final_test/image_0251.tif', '/content/gdrive/My Drive/final_test/image_0250.tif', '/content/gdrive/My Drive/final_test/image_0252.tif', '/content/gdrive/My Drive/final_test/image_0253.tif', '/content/gdrive/My Drive/final_test/image_0258.tif', '/content/gdrive/My Drive/final_test/image_0254.tif', '/content/gdrive/My Drive/final_test/image_0255.tif', '/content/gdrive/My Drive/final_test/image_0257.tif', '/content/gdrive/My Drive/final_test/image_0256.tif', '/content/gdrive/My Drive/final_test/image_0259.tif', '/content/gdrive/My Drive/final_test/image_0261.tif', '/content/gdrive/My Drive/final_test/image_0262.tif', '/content/gdrive/My Drive/final_test/image_0260.tif', '/content/gdrive/My Drive/final_test/image_0263.tif', '/content/gdrive/My Drive/final_test/image_0267.tif', '/content/gdrive/My Drive/final_test/image_0265.tif', '/content/gdrive/My Drive/final_test/image_0266.tif', '/content/gdrive/My Drive/final_test/image_0268.tif', '/content/gdrive/My Drive/final_test/image_0264.tif', '/content/gdrive/My Drive/final_test/image_0269.tif', '/content/gdrive/My Drive/final_test/image_0270.tif', '/content/gdrive/My Drive/final_test/image_0271.tif', '/content/gdrive/My Drive/final_test/image_0272.tif', '/content/gdrive/My Drive/final_test/image_0273.tif', '/content/gdrive/My Drive/final_test/image_0277.tif', '/content/gdrive/My Drive/final_test/image_0276.tif', '/content/gdrive/My Drive/final_test/image_0274.tif', '/content/gdrive/My Drive/final_test/image_0278.tif', '/content/gdrive/My Drive/final_test/image_0275.tif', '/content/gdrive/My Drive/final_test/image_0279.tif', '/content/gdrive/My Drive/final_test/image_0281.tif', '/content/gdrive/My Drive/final_test/image_0280.tif', '/content/gdrive/My Drive/final_test/image_0282.tif', '/content/gdrive/My Drive/final_test/image_0284.tif', '/content/gdrive/My Drive/final_test/image_0283.tif', '/content/gdrive/My Drive/final_test/image_0286.tif', '/content/gdrive/My Drive/final_test/image_0285.tif', '/content/gdrive/My Drive/final_test/image_0287.tif', '/content/gdrive/My Drive/final_test/image_0288.tif', '/content/gdrive/My Drive/final_test/image_0289.tif', '/content/gdrive/My Drive/final_test/image_0291.tif', '/content/gdrive/My Drive/final_test/image_0290.tif', '/content/gdrive/My Drive/final_test/image_0292.tif', '/content/gdrive/My Drive/final_test/image_0293.tif', '/content/gdrive/My Drive/final_test/image_0298.tif', '/content/gdrive/My Drive/final_test/image_0294.tif', '/content/gdrive/My Drive/final_test/image_0297.tif', '/content/gdrive/My Drive/final_test/image_0296.tif', '/content/gdrive/My Drive/final_test/image_0295.tif', '/content/gdrive/My Drive/final_test/image_0299.tif', '/content/gdrive/My Drive/final_test/image_0302.tif', '/content/gdrive/My Drive/final_test/image_0304.tif', '/content/gdrive/My Drive/final_test/image_0301.tif', '/content/gdrive/My Drive/final_test/image_0303.tif', '/content/gdrive/My Drive/final_test/image_0300.tif', '/content/gdrive/My Drive/final_test/image_0306.tif', '/content/gdrive/My Drive/final_test/image_0305.tif', '/content/gdrive/My Drive/final_test/image_0308.tif', '/content/gdrive/My Drive/final_test/image_0307.tif', '/content/gdrive/My Drive/final_test/image_0309.tif', '/content/gdrive/My Drive/final_test/image_0311.tif', '/content/gdrive/My Drive/final_test/image_0313.tif', '/content/gdrive/My Drive/final_test/image_0314.tif', '/content/gdrive/My Drive/final_test/image_0310.tif', '/content/gdrive/My Drive/final_test/image_0312.tif', '/content/gdrive/My Drive/final_test/image_0315.tif', '/content/gdrive/My Drive/final_test/image_0318.tif', '/content/gdrive/My Drive/final_test/image_0316.tif', '/content/gdrive/My Drive/final_test/image_0317.tif', '/content/gdrive/My Drive/final_test/image_0319.tif', '/content/gdrive/My Drive/final_test/image_0322.tif', '/content/gdrive/My Drive/final_test/image_0320.tif', '/content/gdrive/My Drive/final_test/image_0323.tif', '/content/gdrive/My Drive/final_test/image_0321.tif', '/content/gdrive/My Drive/final_test/image_0327.tif', '/content/gdrive/My Drive/final_test/image_0325.tif', '/content/gdrive/My Drive/final_test/image_0328.tif', '/content/gdrive/My Drive/final_test/image_0324.tif', '/content/gdrive/My Drive/final_test/image_0326.tif', '/content/gdrive/My Drive/final_test/image_0329.tif', '/content/gdrive/My Drive/final_test/image_0330.tif', '/content/gdrive/My Drive/final_test/image_0331.tif', '/content/gdrive/My Drive/final_test/image_0334.tif', '/content/gdrive/My Drive/final_test/image_0333.tif', '/content/gdrive/My Drive/final_test/image_0332.tif', '/content/gdrive/My Drive/final_test/image_0335.tif', '/content/gdrive/My Drive/final_test/image_0336.tif', '/content/gdrive/My Drive/final_test/image_0337.tif', '/content/gdrive/My Drive/final_test/image_0338.tif', '/content/gdrive/My Drive/final_test/image_0339.tif', '/content/gdrive/My Drive/final_test/image_0342.tif', '/content/gdrive/My Drive/final_test/image_0341.tif', '/content/gdrive/My Drive/final_test/image_0340.tif', '/content/gdrive/My Drive/final_test/image_0346.tif', '/content/gdrive/My Drive/final_test/image_0344.tif', '/content/gdrive/My Drive/final_test/image_0348.tif', '/content/gdrive/My Drive/final_test/image_0345.tif', '/content/gdrive/My Drive/final_test/image_0343.tif', '/content/gdrive/My Drive/final_test/image_0347.tif', '/content/gdrive/My Drive/final_test/image_0349.tif', '/content/gdrive/My Drive/final_test/image_0351.tif', '/content/gdrive/My Drive/final_test/image_0353.tif', '/content/gdrive/My Drive/final_test/image_0352.tif', '/content/gdrive/My Drive/final_test/image_0350.tif', '/content/gdrive/My Drive/final_test/image_0356.tif', '/content/gdrive/My Drive/final_test/image_0354.tif', '/content/gdrive/My Drive/final_test/image_0358.tif', '/content/gdrive/My Drive/final_test/image_0355.tif', '/content/gdrive/My Drive/final_test/image_0357.tif', '/content/gdrive/My Drive/final_test/image_0359.tif', '/content/gdrive/My Drive/final_test/image_0361.tif', '/content/gdrive/My Drive/final_test/image_0360.tif', '/content/gdrive/My Drive/final_test/image_0362.tif', '/content/gdrive/My Drive/final_test/image_0363.tif', '/content/gdrive/My Drive/final_test/image_0367.tif', '/content/gdrive/My Drive/final_test/image_0365.tif', '/content/gdrive/My Drive/final_test/image_0368.tif', '/content/gdrive/My Drive/final_test/image_0366.tif', '/content/gdrive/My Drive/final_test/image_0364.tif', '/content/gdrive/My Drive/final_test/image_0369.tif', '/content/gdrive/My Drive/final_test/image_0374.tif', '/content/gdrive/My Drive/final_test/image_0370.tif', '/content/gdrive/My Drive/final_test/image_0371.tif', '/content/gdrive/My Drive/final_test/image_0373.tif', '/content/gdrive/My Drive/final_test/image_0375.tif', '/content/gdrive/My Drive/final_test/image_0372.tif', '/content/gdrive/My Drive/final_test/image_0378.tif', '/content/gdrive/My Drive/final_test/image_0376.tif', '/content/gdrive/My Drive/final_test/image_0377.tif', '/content/gdrive/My Drive/final_test/image_0379.tif', '/content/gdrive/My Drive/final_test/image_0381.tif', '/content/gdrive/My Drive/final_test/image_0382.tif', '/content/gdrive/My Drive/final_test/image_0383.tif', '/content/gdrive/My Drive/final_test/image_0380.tif', '/content/gdrive/My Drive/final_test/image_0385.tif', '/content/gdrive/My Drive/final_test/image_0384.tif', '/content/gdrive/My Drive/final_test/image_0386.tif', '/content/gdrive/My Drive/final_test/image_0387.tif', '/content/gdrive/My Drive/final_test/image_0388.tif', '/content/gdrive/My Drive/final_test/image_0389.tif', '/content/gdrive/My Drive/final_test/image_0391.tif', '/content/gdrive/My Drive/final_test/image_0390.tif', '/content/gdrive/My Drive/final_test/image_0392.tif', '/content/gdrive/My Drive/final_test/image_0393.tif', '/content/gdrive/My Drive/final_test/image_0398.tif', '/content/gdrive/My Drive/final_test/image_0394.tif', '/content/gdrive/My Drive/final_test/image_0395.tif', '/content/gdrive/My Drive/final_test/image_0396.tif', '/content/gdrive/My Drive/final_test/image_0397.tif', '/content/gdrive/My Drive/final_test/image_0399.tif', '/content/gdrive/My Drive/final_test/image_0404.tif', '/content/gdrive/My Drive/final_test/image_0403.tif', '/content/gdrive/My Drive/final_test/image_0400.tif', '/content/gdrive/My Drive/final_test/image_0405.tif', '/content/gdrive/My Drive/final_test/image_0401.tif', '/content/gdrive/My Drive/final_test/image_0402.tif', '/content/gdrive/My Drive/final_test/image_0408.tif', '/content/gdrive/My Drive/final_test/image_0406.tif', '/content/gdrive/My Drive/final_test/image_0407.tif', '/content/gdrive/My Drive/final_test/image_0409.tif', '/content/gdrive/My Drive/final_test/image_0410.tif', '/content/gdrive/My Drive/final_test/image_0411.tif', '/content/gdrive/My Drive/final_test/image_0412.tif', '/content/gdrive/My Drive/final_test/image_0413.tif', '/content/gdrive/My Drive/final_test/image_0416.tif', '/content/gdrive/My Drive/final_test/image_0418.tif', '/content/gdrive/My Drive/final_test/image_0414.tif', '/content/gdrive/My Drive/final_test/image_0417.tif', '/content/gdrive/My Drive/final_test/image_0415.tif', '/content/gdrive/My Drive/final_test/image_0419.tif', '/content/gdrive/My Drive/final_test/image_0423.tif', '/content/gdrive/My Drive/final_test/image_0422.tif', '/content/gdrive/My Drive/final_test/image_0424.tif', '/content/gdrive/My Drive/final_test/image_0420.tif', '/content/gdrive/My Drive/final_test/image_0421.tif', '/content/gdrive/My Drive/final_test/image_0428.tif', '/content/gdrive/My Drive/final_test/image_0426.tif', '/content/gdrive/My Drive/final_test/image_0425.tif', '/content/gdrive/My Drive/final_test/image_0427.tif', '/content/gdrive/My Drive/final_test/image_0429.tif', '/content/gdrive/My Drive/final_test/image_0432.tif', '/content/gdrive/My Drive/final_test/image_0430.tif', '/content/gdrive/My Drive/final_test/image_0434.tif', '/content/gdrive/My Drive/final_test/image_0433.tif', '/content/gdrive/My Drive/final_test/image_0431.tif', '/content/gdrive/My Drive/final_test/image_0435.tif', '/content/gdrive/My Drive/final_test/image_0436.tif', '/content/gdrive/My Drive/final_test/image_0438.tif', '/content/gdrive/My Drive/final_test/image_0437.tif', '/content/gdrive/My Drive/final_test/image_0439.tif', '/content/gdrive/My Drive/final_test/image_0442.tif', '/content/gdrive/My Drive/final_test/image_0441.tif', '/content/gdrive/My Drive/final_test/image_0440.tif', '/content/gdrive/My Drive/final_test/image_0443.tif', '/content/gdrive/My Drive/final_test/image_0444.tif', '/content/gdrive/My Drive/final_test/image_0445.tif', '/content/gdrive/My Drive/final_test/image_0447.tif', '/content/gdrive/My Drive/final_test/image_0446.tif', '/content/gdrive/My Drive/final_test/image_0448.tif', '/content/gdrive/My Drive/final_test/image_0449.tif', '/content/gdrive/My Drive/final_test/image_0453.tif', '/content/gdrive/My Drive/final_test/image_0451.tif', '/content/gdrive/My Drive/final_test/image_0450.tif', '/content/gdrive/My Drive/final_test/image_0452.tif', '/content/gdrive/My Drive/final_test/image_0454.tif', '/content/gdrive/My Drive/final_test/image_0457.tif', '/content/gdrive/My Drive/final_test/image_0456.tif', '/content/gdrive/My Drive/final_test/image_0455.tif', '/content/gdrive/My Drive/final_test/image_0458.tif', '/content/gdrive/My Drive/final_test/image_0459.tif', '/content/gdrive/My Drive/final_test/image_0462.tif', '/content/gdrive/My Drive/final_test/image_0463.tif', '/content/gdrive/My Drive/final_test/image_0461.tif', '/content/gdrive/My Drive/final_test/image_0464.tif', '/content/gdrive/My Drive/final_test/image_0460.tif', '/content/gdrive/My Drive/final_test/image_0468.tif', '/content/gdrive/My Drive/final_test/image_0465.tif', '/content/gdrive/My Drive/final_test/image_0466.tif', '/content/gdrive/My Drive/final_test/image_0467.tif', '/content/gdrive/My Drive/final_test/image_0469.tif', '/content/gdrive/My Drive/final_test/image_0471.tif', '/content/gdrive/My Drive/final_test/image_0475.tif', '/content/gdrive/My Drive/final_test/image_0474.tif', '/content/gdrive/My Drive/final_test/image_0473.tif', '/content/gdrive/My Drive/final_test/image_0472.tif', '/content/gdrive/My Drive/final_test/image_0470.tif', '/content/gdrive/My Drive/final_test/image_0476.tif', '/content/gdrive/My Drive/final_test/image_0478.tif', '/content/gdrive/My Drive/final_test/image_0477.tif', '/content/gdrive/My Drive/final_test/image_0479.tif', '/content/gdrive/My Drive/final_test/image_0481.tif', '/content/gdrive/My Drive/final_test/image_0483.tif', '/content/gdrive/My Drive/final_test/image_0482.tif', '/content/gdrive/My Drive/final_test/image_0480.tif', '/content/gdrive/My Drive/final_test/image_0486.tif', '/content/gdrive/My Drive/final_test/image_0488.tif', '/content/gdrive/My Drive/final_test/image_0484.tif', '/content/gdrive/My Drive/final_test/image_0485.tif', '/content/gdrive/My Drive/final_test/image_0487.tif', '/content/gdrive/My Drive/final_test/image_0489.tif', '/content/gdrive/My Drive/final_test/image_0490.tif', '/content/gdrive/My Drive/final_test/image_0491.tif', '/content/gdrive/My Drive/final_test/image_0493.tif', '/content/gdrive/My Drive/final_test/image_0494.tif', '/content/gdrive/My Drive/final_test/image_0492.tif', '/content/gdrive/My Drive/final_test/image_0496.tif', '/content/gdrive/My Drive/final_test/image_0497.tif', '/content/gdrive/My Drive/final_test/image_0495.tif', '/content/gdrive/My Drive/final_test/image_0498.tif', '/content/gdrive/My Drive/final_test/image_0499.tif', '/content/gdrive/My Drive/final_test/image_0503.tif', '/content/gdrive/My Drive/final_test/image_0504.tif', '/content/gdrive/My Drive/final_test/image_0500.tif', '/content/gdrive/My Drive/final_test/image_0505.tif', '/content/gdrive/My Drive/final_test/image_0501.tif', '/content/gdrive/My Drive/final_test/image_0502.tif', '/content/gdrive/My Drive/final_test/image_0506.tif', '/content/gdrive/My Drive/final_test/image_0508.tif', '/content/gdrive/My Drive/final_test/image_0507.tif', '/content/gdrive/My Drive/final_test/image_0509.tif', '/content/gdrive/My Drive/final_test/image_0510.tif', '/content/gdrive/My Drive/final_test/image_0514.tif', '/content/gdrive/My Drive/final_test/image_0512.tif', '/content/gdrive/My Drive/final_test/image_0513.tif', '/content/gdrive/My Drive/final_test/image_0511.tif', '/content/gdrive/My Drive/final_test/image_0517.tif', '/content/gdrive/My Drive/final_test/image_0515.tif', '/content/gdrive/My Drive/final_test/image_0518.tif', '/content/gdrive/My Drive/final_test/image_0516.tif', '/content/gdrive/My Drive/final_test/image_0519.tif', '/content/gdrive/My Drive/final_test/image_0521.tif', '/content/gdrive/My Drive/final_test/image_0520.tif', '/content/gdrive/My Drive/final_test/image_0522.tif', '/content/gdrive/My Drive/final_test/image_0523.tif', '/content/gdrive/My Drive/final_test/image_0524.tif', '/content/gdrive/My Drive/final_test/image_0528.tif', '/content/gdrive/My Drive/final_test/image_0526.tif', '/content/gdrive/My Drive/final_test/image_0527.tif', '/content/gdrive/My Drive/final_test/image_0525.tif', '/content/gdrive/My Drive/final_test/image_0529.tif', '/content/gdrive/My Drive/final_test/image_0530.tif', '/content/gdrive/My Drive/final_test/image_0533.tif', '/content/gdrive/My Drive/final_test/image_0531.tif', '/content/gdrive/My Drive/final_test/image_0534.tif', '/content/gdrive/My Drive/final_test/image_0532.tif', '/content/gdrive/My Drive/final_test/image_0537.tif', '/content/gdrive/My Drive/final_test/image_0538.tif', '/content/gdrive/My Drive/final_test/image_0535.tif', '/content/gdrive/My Drive/final_test/image_0536.tif', '/content/gdrive/My Drive/final_test/image_0539.tif', '/content/gdrive/My Drive/final_test/image_0545.tif', '/content/gdrive/My Drive/final_test/image_0543.tif', '/content/gdrive/My Drive/final_test/image_0542.tif', '/content/gdrive/My Drive/final_test/image_0540.tif', '/content/gdrive/My Drive/final_test/image_0541.tif', '/content/gdrive/My Drive/final_test/image_0544.tif', '/content/gdrive/My Drive/final_test/image_0547.tif', '/content/gdrive/My Drive/final_test/image_0546.tif', '/content/gdrive/My Drive/final_test/image_0548.tif', '/content/gdrive/My Drive/final_test/image_0549.tif', '/content/gdrive/My Drive/final_test/image_0551.tif', '/content/gdrive/My Drive/final_test/image_0550.tif', '/content/gdrive/My Drive/final_test/image_0556.tif', '/content/gdrive/My Drive/final_test/image_0554.tif', '/content/gdrive/My Drive/final_test/image_0557.tif', '/content/gdrive/My Drive/final_test/image_0558.tif', '/content/gdrive/My Drive/final_test/image_0555.tif', '/content/gdrive/My Drive/final_test/image_0553.tif', '/content/gdrive/My Drive/final_test/image_0552.tif', '/content/gdrive/My Drive/final_test/image_0559.tif', '/content/gdrive/My Drive/final_test/image_0562.tif', '/content/gdrive/My Drive/final_test/image_0561.tif', '/content/gdrive/My Drive/final_test/image_0560.tif', '/content/gdrive/My Drive/final_test/image_0563.tif', '/content/gdrive/My Drive/final_test/image_0566.tif', '/content/gdrive/My Drive/final_test/image_0567.tif', '/content/gdrive/My Drive/final_test/image_0565.tif', '/content/gdrive/My Drive/final_test/image_0568.tif', '/content/gdrive/My Drive/final_test/image_0564.tif', '/content/gdrive/My Drive/final_test/image_0569.tif', '/content/gdrive/My Drive/final_test/image_0570.tif', '/content/gdrive/My Drive/final_test/image_0573.tif', '/content/gdrive/My Drive/final_test/image_0571.tif', '/content/gdrive/My Drive/final_test/image_0572.tif', '/content/gdrive/My Drive/final_test/image_0578.tif', '/content/gdrive/My Drive/final_test/image_0575.tif', '/content/gdrive/My Drive/final_test/image_0577.tif', '/content/gdrive/My Drive/final_test/image_0576.tif', '/content/gdrive/My Drive/final_test/image_0574.tif', '/content/gdrive/My Drive/final_test/image_0579.tif', '/content/gdrive/My Drive/final_test/image_0582.tif', '/content/gdrive/My Drive/final_test/image_0583.tif', '/content/gdrive/My Drive/final_test/image_0580.tif', '/content/gdrive/My Drive/final_test/image_0581.tif', '/content/gdrive/My Drive/final_test/image_0585.tif', '/content/gdrive/My Drive/final_test/image_0586.tif', '/content/gdrive/My Drive/final_test/image_0587.tif', '/content/gdrive/My Drive/final_test/image_0584.tif', '/content/gdrive/My Drive/final_test/image_0588.tif', '/content/gdrive/My Drive/final_test/image_0589.tif', '/content/gdrive/My Drive/final_test/image_0590.tif', '/content/gdrive/My Drive/final_test/image_0592.tif', '/content/gdrive/My Drive/final_test/image_0593.tif', '/content/gdrive/My Drive/final_test/image_0591.tif', '/content/gdrive/My Drive/final_test/image_0596.tif', '/content/gdrive/My Drive/final_test/image_0595.tif', '/content/gdrive/My Drive/final_test/image_0598.tif', '/content/gdrive/My Drive/final_test/image_0597.tif', '/content/gdrive/My Drive/final_test/image_0594.tif', '/content/gdrive/My Drive/final_test/image_0599.tif', '/content/gdrive/My Drive/final_test/image_0600.tif', '/content/gdrive/My Drive/final_test/image_0602.tif', '/content/gdrive/My Drive/final_test/image_0604.tif', '/content/gdrive/My Drive/final_test/image_0601.tif', '/content/gdrive/My Drive/final_test/image_0603.tif', '/content/gdrive/My Drive/final_test/image_0607.tif', '/content/gdrive/My Drive/final_test/image_0608.tif', '/content/gdrive/My Drive/final_test/image_0606.tif', '/content/gdrive/My Drive/final_test/image_0605.tif', '/content/gdrive/My Drive/final_test/image_0609.tif', '/content/gdrive/My Drive/final_test/image_0611.tif', '/content/gdrive/My Drive/final_test/image_0610.tif', '/content/gdrive/My Drive/final_test/image_0613.tif', '/content/gdrive/My Drive/final_test/image_0615.tif', '/content/gdrive/My Drive/final_test/image_0618.tif', '/content/gdrive/My Drive/final_test/image_0612.tif', '/content/gdrive/My Drive/final_test/image_0616.tif', '/content/gdrive/My Drive/final_test/image_0614.tif', '/content/gdrive/My Drive/final_test/image_0617.tif', '/content/gdrive/My Drive/final_test/image_0619.tif', '/content/gdrive/My Drive/final_test/image_0623.tif', '/content/gdrive/My Drive/final_test/image_0620.tif', '/content/gdrive/My Drive/final_test/image_0621.tif', '/content/gdrive/My Drive/final_test/image_0624.tif', '/content/gdrive/My Drive/final_test/image_0622.tif', '/content/gdrive/My Drive/final_test/image_0627.tif', '/content/gdrive/My Drive/final_test/image_0628.tif', '/content/gdrive/My Drive/final_test/image_0626.tif', '/content/gdrive/My Drive/final_test/image_0625.tif', '/content/gdrive/My Drive/final_test/image_0629.tif', '/content/gdrive/My Drive/final_test/image_0631.tif', '/content/gdrive/My Drive/final_test/image_0634.tif', '/content/gdrive/My Drive/final_test/image_0636.tif', '/content/gdrive/My Drive/final_test/image_0632.tif', '/content/gdrive/My Drive/final_test/image_0633.tif', '/content/gdrive/My Drive/final_test/image_0630.tif', '/content/gdrive/My Drive/final_test/image_0635.tif', '/content/gdrive/My Drive/final_test/image_0637.tif', '/content/gdrive/My Drive/final_test/image_0638.tif', '/content/gdrive/My Drive/final_test/image_0639.tif', '/content/gdrive/My Drive/final_test/image_0640.tif', '/content/gdrive/My Drive/final_test/image_0641.tif', '/content/gdrive/My Drive/final_test/image_0642.tif', '/content/gdrive/My Drive/final_test/image_0644.tif', '/content/gdrive/My Drive/final_test/image_0643.tif', '/content/gdrive/My Drive/final_test/image_0645.tif', '/content/gdrive/My Drive/final_test/image_0647.tif', '/content/gdrive/My Drive/final_test/image_0648.tif', '/content/gdrive/My Drive/final_test/image_0646.tif', '/content/gdrive/My Drive/final_test/image_0649.tif', '/content/gdrive/My Drive/final_test/image_0652.tif', '/content/gdrive/My Drive/final_test/image_0654.tif', '/content/gdrive/My Drive/final_test/image_0651.tif', '/content/gdrive/My Drive/final_test/image_0653.tif', '/content/gdrive/My Drive/final_test/image_0650.tif', '/content/gdrive/My Drive/final_test/image_0656.tif', '/content/gdrive/My Drive/final_test/image_0658.tif', '/content/gdrive/My Drive/final_test/image_0657.tif', '/content/gdrive/My Drive/final_test/image_0655.tif', '/content/gdrive/My Drive/final_test/image_0659.tif', '/content/gdrive/My Drive/final_test/image_0663.tif', '/content/gdrive/My Drive/final_test/image_0660.tif', '/content/gdrive/My Drive/final_test/image_0661.tif', '/content/gdrive/My Drive/final_test/image_0664.tif', '/content/gdrive/My Drive/final_test/image_0662.tif', '/content/gdrive/My Drive/final_test/image_0665.tif', '/content/gdrive/My Drive/final_test/image_0666.tif', '/content/gdrive/My Drive/final_test/image_0668.tif', '/content/gdrive/My Drive/final_test/image_0667.tif', '/content/gdrive/My Drive/final_test/image_0669.tif', '/content/gdrive/My Drive/final_test/image_0673.tif', '/content/gdrive/My Drive/final_test/image_0670.tif', '/content/gdrive/My Drive/final_test/image_0671.tif', '/content/gdrive/My Drive/final_test/image_0672.tif', '/content/gdrive/My Drive/final_test/image_0674.tif', '/content/gdrive/My Drive/final_test/image_0676.tif', '/content/gdrive/My Drive/final_test/image_0677.tif', '/content/gdrive/My Drive/final_test/image_0675.tif', '/content/gdrive/My Drive/final_test/image_0678.tif', '/content/gdrive/My Drive/final_test/image_0679.tif', '/content/gdrive/My Drive/final_test/image_0682.tif', '/content/gdrive/My Drive/final_test/image_0681.tif', '/content/gdrive/My Drive/final_test/image_0680.tif', '/content/gdrive/My Drive/final_test/image_0683.tif', '/content/gdrive/My Drive/final_test/image_0684.tif', '/content/gdrive/My Drive/final_test/image_0687.tif', '/content/gdrive/My Drive/final_test/image_0688.tif', '/content/gdrive/My Drive/final_test/image_0686.tif', '/content/gdrive/My Drive/final_test/image_0685.tif', '/content/gdrive/My Drive/final_test/image_0689.tif', '/content/gdrive/My Drive/final_test/image_0690.tif', '/content/gdrive/My Drive/final_test/image_0693.tif', '/content/gdrive/My Drive/final_test/image_0691.tif', '/content/gdrive/My Drive/final_test/image_0692.tif', '/content/gdrive/My Drive/final_test/image_0697.tif', '/content/gdrive/My Drive/final_test/image_0698.tif', '/content/gdrive/My Drive/final_test/image_0696.tif', '/content/gdrive/My Drive/final_test/image_0694.tif', '/content/gdrive/My Drive/final_test/image_0695.tif', '/content/gdrive/My Drive/final_test/image_0699.tif', '/content/gdrive/My Drive/final_test/image_0700.tif', '/content/gdrive/My Drive/final_test/image_0702.tif', '/content/gdrive/My Drive/final_test/image_0703.tif', '/content/gdrive/My Drive/final_test/image_0701.tif', '/content/gdrive/My Drive/final_test/image_0704.tif', '/content/gdrive/My Drive/final_test/image_0708.tif', '/content/gdrive/My Drive/final_test/image_0706.tif', '/content/gdrive/My Drive/final_test/image_0707.tif', '/content/gdrive/My Drive/final_test/image_0705.tif', '/content/gdrive/My Drive/final_test/image_0709.tif', '/content/gdrive/My Drive/final_test/image_0712.tif', '/content/gdrive/My Drive/final_test/image_0710.tif', '/content/gdrive/My Drive/final_test/image_0714.tif', '/content/gdrive/My Drive/final_test/image_0711.tif', '/content/gdrive/My Drive/final_test/image_0715.tif', '/content/gdrive/My Drive/final_test/image_0717.tif', '/content/gdrive/My Drive/final_test/image_0718.tif', '/content/gdrive/My Drive/final_test/image_0716.tif', '/content/gdrive/My Drive/final_test/image_0713.tif', '/content/gdrive/My Drive/final_test/image_0719.tif', '/content/gdrive/My Drive/final_test/image_0720.tif', '/content/gdrive/My Drive/final_test/image_0722.tif', '/content/gdrive/My Drive/final_test/image_0726.tif', '/content/gdrive/My Drive/final_test/image_0723.tif', '/content/gdrive/My Drive/final_test/image_0725.tif', '/content/gdrive/My Drive/final_test/image_0724.tif', '/content/gdrive/My Drive/final_test/image_0721.tif', '/content/gdrive/My Drive/final_test/image_0728.tif', '/content/gdrive/My Drive/final_test/image_0727.tif', '/content/gdrive/My Drive/final_test/image_0729.tif', '/content/gdrive/My Drive/final_test/image_0733.tif', '/content/gdrive/My Drive/final_test/image_0732.tif', '/content/gdrive/My Drive/final_test/image_0731.tif', '/content/gdrive/My Drive/final_test/image_0734.tif', '/content/gdrive/My Drive/final_test/image_0730.tif', '/content/gdrive/My Drive/final_test/image_0735.tif', '/content/gdrive/My Drive/final_test/image_0738.tif', '/content/gdrive/My Drive/final_test/image_0737.tif', '/content/gdrive/My Drive/final_test/image_0736.tif', '/content/gdrive/My Drive/final_test/image_0739.tif', '/content/gdrive/My Drive/final_test/image_0742.tif', '/content/gdrive/My Drive/final_test/image_0744.tif', '/content/gdrive/My Drive/final_test/image_0740.tif', '/content/gdrive/My Drive/final_test/image_0745.tif', '/content/gdrive/My Drive/final_test/image_0743.tif', '/content/gdrive/My Drive/final_test/image_0741.tif', '/content/gdrive/My Drive/final_test/image_0748.tif', '/content/gdrive/My Drive/final_test/image_0746.tif', '/content/gdrive/My Drive/final_test/image_0747.tif', '/content/gdrive/My Drive/final_test/image_0749.tif', '/content/gdrive/My Drive/final_test/image_0756.tif', '/content/gdrive/My Drive/final_test/image_0754.tif', '/content/gdrive/My Drive/final_test/image_0755.tif', '/content/gdrive/My Drive/final_test/image_0752.tif', '/content/gdrive/My Drive/final_test/image_0753.tif', '/content/gdrive/My Drive/final_test/image_0751.tif', '/content/gdrive/My Drive/final_test/image_0750.tif', '/content/gdrive/My Drive/final_test/image_0758.tif', '/content/gdrive/My Drive/final_test/image_0757.tif', '/content/gdrive/My Drive/final_test/image_0759.tif', '/content/gdrive/My Drive/final_test/image_0762.tif', '/content/gdrive/My Drive/final_test/image_0760.tif', '/content/gdrive/My Drive/final_test/image_0761.tif', '/content/gdrive/My Drive/final_test/image_0765.tif', '/content/gdrive/My Drive/final_test/image_0768.tif', '/content/gdrive/My Drive/final_test/image_0764.tif', '/content/gdrive/My Drive/final_test/image_0766.tif', '/content/gdrive/My Drive/final_test/image_0763.tif', '/content/gdrive/My Drive/final_test/image_0767.tif', '/content/gdrive/My Drive/final_test/image_0769.tif', '/content/gdrive/My Drive/final_test/image_0774.tif']\n"
          ],
          "name": "stdout"
        }
      ]
    },
    {
      "cell_type": "code",
      "metadata": {
        "id": "vrSXJEjrTMZJ",
        "colab_type": "code",
        "colab": {}
      },
      "source": [
        "\n",
        "from object_detection.utils import label_map_util\n",
        "\n",
        "from object_detection.utils import visualization_utils as vis_util\n",
        "\n",
        "num_classes = 1\n",
        "\n",
        "detection_graph = tf.Graph()\n",
        "with detection_graph.as_default():\n",
        "    od_graph_def = tf.GraphDef()\n",
        "    with tf.gfile.GFile(PATH_TO_CKPT, 'rb') as fid:\n",
        "        serialized_graph = fid.read()\n",
        "        od_graph_def.ParseFromString(serialized_graph)\n",
        "        tf.import_graph_def(od_graph_def, name='')\n",
        "\n",
        "\n",
        "label_map = label_map_util.load_labelmap(PATH_TO_LABELS)\n",
        "categories = label_map_util.convert_label_map_to_categories(\n",
        "    label_map, max_num_classes=num_classes, use_display_name=True)\n",
        "category_index = label_map_util.create_category_index(categories)\n",
        "\n",
        "\n",
        "def load_image_into_numpy_array(image):\n",
        "    (im_width, im_height) = image.size\n",
        "    return np.array(image.getdata()).reshape(\n",
        "        (im_height, im_width, 3)).astype(np.uint8)\n",
        "\n",
        "# Size, in inches, of the output images.\n",
        "IMAGE_SIZE = (12, 8)\n",
        "\n",
        "\n",
        "def run_inference_for_single_image(image, graph):\n",
        "    with graph.as_default():\n",
        "        with tf.Session() as sess:\n",
        "            # Get handles to input and output tensors\n",
        "            ops = tf.get_default_graph().get_operations()\n",
        "            all_tensor_names = {\n",
        "                output.name for op in ops for output in op.outputs}\n",
        "            tensor_dict = {}\n",
        "            for key in [\n",
        "                'num_detections', 'detection_boxes', 'detection_scores',\n",
        "                'detection_classes', 'detection_masks'\n",
        "            ]:\n",
        "                tensor_name = key + ':0'\n",
        "                if tensor_name in all_tensor_names:\n",
        "                    tensor_dict[key] = tf.get_default_graph().get_tensor_by_name(\n",
        "                        tensor_name)\n",
        "            if 'detection_masks' in tensor_dict:\n",
        "                # The following processing is only for single image\n",
        "                detection_boxes = tf.squeeze(\n",
        "                    tensor_dict['detection_boxes'], [0])\n",
        "                detection_masks = tf.squeeze(\n",
        "                    tensor_dict['detection_masks'], [0])\n",
        "                # Reframe is required to translate mask from box coordinates to image coordinates and fit the image size.\n",
        "                real_num_detection = tf.cast(\n",
        "                    tensor_dict['num_detections'][0], tf.int32)\n",
        "                detection_boxes = tf.slice(detection_boxes, [0, 0], [\n",
        "                                           real_num_detection, -1])\n",
        "                detection_masks = tf.slice(detection_masks, [0, 0, 0], [\n",
        "                                           real_num_detection, -1, -1])\n",
        "                detection_masks_reframed = utils_ops.reframe_box_masks_to_image_masks(\n",
        "                    detection_masks, detection_boxes, image.shape[0], image.shape[1])\n",
        "                detection_masks_reframed = tf.cast(\n",
        "                    tf.greater(detection_masks_reframed, 0.5), tf.uint8)\n",
        "                # Follow the convention by adding back the batch dimension\n",
        "                tensor_dict['detection_masks'] = tf.expand_dims(\n",
        "                    detection_masks_reframed, 0)\n",
        "            image_tensor = tf.get_default_graph().get_tensor_by_name('image_tensor:0')\n",
        "\n",
        "            # Run inference\n",
        "            output_dict = sess.run(tensor_dict,\n",
        "                                   feed_dict={image_tensor: np.expand_dims(image, 0)})\n",
        "\n",
        "            # all outputs are float32 numpy arrays, so convert types as appropriate\n",
        "            output_dict['num_detections'] = int(\n",
        "                output_dict['num_detections'][0])\n",
        "            output_dict['detection_classes'] = output_dict[\n",
        "                'detection_classes'][0].astype(np.uint8)\n",
        "            output_dict['detection_boxes'] = output_dict['detection_boxes'][0]\n",
        "            output_dict['detection_scores'] = output_dict['detection_scores'][0]\n",
        "            if 'detection_masks' in output_dict:\n",
        "                output_dict['detection_masks'] = output_dict['detection_masks'][0]\n",
        "    return output_dict\n",
        "    \n",
        "\n",
        "for image_path in TEST_IMAGE_PATHS:\n",
        "    image = Image.open(image_path)\n",
        "    # the array based representation of the image will be used later in order to prepare the\n",
        "    # result image with boxes and labels on it.\n",
        "    image_np = load_image_into_numpy_array(image)\n",
        "    # Expand dimensions since the model expects images to have shape: [1, None, None, 3]\n",
        "    image_np_expanded = np.expand_dims(image_np, axis=0)\n",
        "    # Actual detection.\n",
        "    output_dict = run_inference_for_single_image(image_np, detection_graph)\n",
        "    \n",
        "    #lets look at the output dict to see whats going wrong\n",
        "    #print(image_path)\n",
        "    #print(output_dict)\n",
        "    \n",
        "    #save the output dict to a file as csv format\n",
        "    \n",
        "    \n",
        "    \n",
        "    my_filename = ntpath.basename(image_path)\n",
        "    my_filenumber = my_filename[6:10]\n",
        "    for x in range(4):\n",
        "      if output_dict['detection_scores'][x] > 0.5:\n",
        "        myString = my_filenumber + ',' + str(output_dict['detection_scores'][x]) + \",\" + str(output_dict['detection_boxes'][x][0]) + \",\" + str(output_dict['detection_boxes'][x][1]) + \",\" + str(output_dict['detection_boxes'][x][2]) + \",\" + str(output_dict['detection_boxes'][x][3])\n",
        "        print(myString)\n",
        "        with open('output.csv', 'a') as output_file:\n",
        "          output_file.write(myString + '\\n')\n",
        "        \n",
        "    # Visualization of the results of a detection.\n",
        "    vis_util.visualize_boxes_and_labels_on_image_array(\n",
        "        image_np,\n",
        "        output_dict['detection_boxes'],\n",
        "        output_dict['detection_classes'],\n",
        "        output_dict['detection_scores'],\n",
        "        category_index,\n",
        "        min_score_thresh=.2,\n",
        "        instance_masks=output_dict.get('detection_masks'),\n",
        "        use_normalized_coordinates=True,\n",
        "        line_thickness=8)\n",
        "    #plt.figure(figsize=IMAGE_SIZE)\n",
        "    #plt.imshow(image_np)"
      ],
      "execution_count": 0,
      "outputs": []
    },
    {
      "cell_type": "code",
      "metadata": {
        "id": "sBgn9bq-ggI6",
        "colab_type": "code",
        "colab": {
          "base_uri": "https://localhost:8080/",
          "height": 34
        },
        "outputId": "6fe48d2f-7b1c-451c-f4fe-571ccde41074"
      },
      "source": [
        ""
      ],
      "execution_count": 18,
      "outputs": [
        {
          "output_type": "stream",
          "text": [
            "0788\n"
          ],
          "name": "stdout"
        }
      ]
    },
    {
      "cell_type": "code",
      "metadata": {
        "id": "IKkGgIRWiWIx",
        "colab_type": "code",
        "colab": {}
      },
      "source": [
        "\n",
        "files.download('output.csv')\n"
      ],
      "execution_count": 0,
      "outputs": []
    }
  ]
}